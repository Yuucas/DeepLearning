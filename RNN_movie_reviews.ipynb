{
  "nbformat": 4,
  "nbformat_minor": 0,
  "metadata": {
    "colab": {
      "name": "RNN-movie-reviews.ipynb",
      "provenance": [],
      "collapsed_sections": []
    },
    "kernelspec": {
      "name": "python3",
      "display_name": "Python 3"
    }
  },
  "cells": [
    {
      "cell_type": "markdown",
      "metadata": {
        "id": "KCWtJK-8rZrj"
      },
      "source": [
        "# **Recurrent Neural Network (RNN) Implementation**"
      ]
    },
    {
      "cell_type": "code",
      "metadata": {
        "id": "P0Ztmgt_SeoQ"
      },
      "source": [
        "import numpy as np\r\n",
        "import tensorflow as tf\r\n",
        "from tensorflow import keras\r\n",
        "import matplotlib.pyplot as plt"
      ],
      "execution_count": 1,
      "outputs": []
    },
    {
      "cell_type": "code",
      "metadata": {
        "id": "mR-xVPUqSgXE"
      },
      "source": [
        "np.random.seed(50)"
      ],
      "execution_count": 2,
      "outputs": []
    },
    {
      "cell_type": "markdown",
      "metadata": {
        "id": "H-SBveWwSpza"
      },
      "source": [
        "**Load dataset:**\r\n",
        "\r\n",
        "The dataset contains 50,000 movie reviews from IMDB, labeled by sentiment (positive/negative). Reviews have been preprocessed, and each review is encoded as a sequence of word indexes."
      ]
    },
    {
      "cell_type": "code",
      "metadata": {
        "colab": {
          "base_uri": "https://localhost:8080/"
        },
        "id": "7o3VL57vSi-7",
        "outputId": "39cd6caf-73df-4c04-f138-aa1f8b635955"
      },
      "source": [
        "num_words = 10000\r\n",
        "(X_train, y_train), (X_test, y_test) = keras.datasets.imdb.load_data(num_words=num_words)\r\n",
        "(X_valid, X_test) = X_test[:10000], X_test[10000:]\r\n",
        "(y_valid, y_test) = y_test[:10000], y_test[10000:]"
      ],
      "execution_count": 15,
      "outputs": [
        {
          "output_type": "stream",
          "text": [
            "<string>:6: VisibleDeprecationWarning: Creating an ndarray from ragged nested sequences (which is a list-or-tuple of lists-or-tuples-or ndarrays with different lengths or shapes) is deprecated. If you meant to do this, you must specify 'dtype=object' when creating the ndarray\n",
            "/usr/local/lib/python3.7/dist-packages/tensorflow/python/keras/datasets/imdb.py:159: VisibleDeprecationWarning: Creating an ndarray from ragged nested sequences (which is a list-or-tuple of lists-or-tuples-or ndarrays with different lengths or shapes) is deprecated. If you meant to do this, you must specify 'dtype=object' when creating the ndarray\n",
            "  x_train, y_train = np.array(xs[:idx]), np.array(labels[:idx])\n",
            "/usr/local/lib/python3.7/dist-packages/tensorflow/python/keras/datasets/imdb.py:160: VisibleDeprecationWarning: Creating an ndarray from ragged nested sequences (which is a list-or-tuple of lists-or-tuples-or ndarrays with different lengths or shapes) is deprecated. If you meant to do this, you must specify 'dtype=object' when creating the ndarray\n",
            "  x_test, y_test = np.array(xs[idx:]), np.array(labels[idx:])\n"
          ],
          "name": "stderr"
        }
      ]
    },
    {
      "cell_type": "code",
      "metadata": {
        "id": "zBZqXF7OSvvT"
      },
      "source": [
        "word_index = keras.datasets.imdb.get_word_index()"
      ],
      "execution_count": 16,
      "outputs": []
    },
    {
      "cell_type": "code",
      "metadata": {
        "id": "TXdy0U6aTC3z"
      },
      "source": [
        "reverse_index = {word_id + 3: word for word, word_id in word_index.items()}\r\n",
        "reverse_index[0] = \"<pad>\" # padding\r\n",
        "reverse_index[1] = \"<sos>\" # start of sequence\r\n",
        "reverse_index[2] = \"<oov>\" # out-of-vocabulary\r\n",
        "reverse_index[3] = \"<unk>\" # unknown\r\n",
        "\r\n",
        "def decode_review(word_ids):\r\n",
        "    return \" \".join([reverse_index.get(word_id, \"<err>\") for word_id in word_ids])"
      ],
      "execution_count": 17,
      "outputs": []
    },
    {
      "cell_type": "code",
      "metadata": {
        "colab": {
          "base_uri": "https://localhost:8080/",
          "height": 137
        },
        "id": "ZHJfyLfYTGmD",
        "outputId": "d53d457d-7345-4bd4-cfe6-f59b3c1c39c1"
      },
      "source": [
        "decode_review(X_train[0])"
      ],
      "execution_count": 18,
      "outputs": [
        {
          "output_type": "execute_result",
          "data": {
            "application/vnd.google.colaboratory.intrinsic+json": {
              "type": "string"
            },
            "text/plain": [
              "\"<sos> this film was just brilliant casting location scenery story direction everyone's really suited the part they played and you could just imagine being there robert <oov> is an amazing actor and now the same being director <oov> father came from the same scottish island as myself so i loved the fact there was a real connection with this film the witty remarks throughout the film were great it was just brilliant so much that i bought the film as soon as it was released for <oov> and would recommend it to everyone to watch and the fly fishing was amazing really cried at the end it was so sad and you know what they say if you cry at a film it must have been good and this definitely was also <oov> to the two little boy's that played the <oov> of norman and paul they were just brilliant children are often left out of the <oov> list i think because the stars that play them all grown up are such a big profile for the whole film but these children are amazing and should be praised for what they have done don't you think the whole story was so lovely because it was true and was someone's life after all that was shared with us all\""
            ]
          },
          "metadata": {
            "tags": []
          },
          "execution_count": 18
        }
      ]
    },
    {
      "cell_type": "code",
      "metadata": {
        "id": "QUyMlnWlTNcz"
      },
      "source": [
        "maxlen = 500\r\n",
        "X_train_trim = keras.preprocessing.sequence.pad_sequences(X_train, maxlen=maxlen)\r\n",
        "X_test_trim = keras.preprocessing.sequence.pad_sequences(X_test, maxlen=maxlen)\r\n",
        "X_valid_trim = keras.preprocessing.sequence.pad_sequences(X_valid, maxlen=maxlen)"
      ],
      "execution_count": 19,
      "outputs": []
    },
    {
      "cell_type": "markdown",
      "metadata": {
        "id": "WtDIrZSHsbMn"
      },
      "source": [
        "**Define the model:**"
      ]
    },
    {
      "cell_type": "code",
      "metadata": {
        "id": "VVnDbo72TQDL"
      },
      "source": [
        "model = keras.models.Sequential()\r\n",
        "model.add(keras.layers.Embedding(input_dim=num_words, output_dim=10))\r\n",
        "model.add(keras.layers.SimpleRNN(32))\r\n",
        "model.add(keras.layers.Dense(1, activation=\"sigmoid\"))"
      ],
      "execution_count": 20,
      "outputs": []
    },
    {
      "cell_type": "code",
      "metadata": {
        "id": "HG5XaUnkTSWr"
      },
      "source": [
        "model.compile(loss=\"binary_crossentropy\", optimizer=\"adam\", metrics=[\"accuracy\"])"
      ],
      "execution_count": 21,
      "outputs": []
    },
    {
      "cell_type": "code",
      "metadata": {
        "colab": {
          "base_uri": "https://localhost:8080/"
        },
        "id": "538GLXKITSbb",
        "outputId": "fdb8ce4a-e28c-45fb-c1c0-ccc93b122674"
      },
      "source": [
        "model.summary()"
      ],
      "execution_count": 22,
      "outputs": [
        {
          "output_type": "stream",
          "text": [
            "Model: \"sequential_1\"\n",
            "_________________________________________________________________\n",
            "Layer (type)                 Output Shape              Param #   \n",
            "=================================================================\n",
            "embedding_1 (Embedding)      (None, None, 10)          100000    \n",
            "_________________________________________________________________\n",
            "simple_rnn_1 (SimpleRNN)     (None, 32)                1376      \n",
            "_________________________________________________________________\n",
            "dense_1 (Dense)              (None, 1)                 33        \n",
            "=================================================================\n",
            "Total params: 101,409\n",
            "Trainable params: 101,409\n",
            "Non-trainable params: 0\n",
            "_________________________________________________________________\n"
          ],
          "name": "stdout"
        }
      ]
    },
    {
      "cell_type": "markdown",
      "metadata": {
        "id": "BnGknzhrshjU"
      },
      "source": [
        "**Train the model:**"
      ]
    },
    {
      "cell_type": "code",
      "metadata": {
        "colab": {
          "base_uri": "https://localhost:8080/"
        },
        "id": "mXSL6hCETSek",
        "outputId": "4637abf3-c1cc-40ac-acd3-0a0110dd6532"
      },
      "source": [
        "history = model.fit(X_train_trim, y_train,\r\n",
        "                    epochs=10, batch_size=128, validation_data=(X_valid_trim, y_valid))"
      ],
      "execution_count": 13,
      "outputs": [
        {
          "output_type": "stream",
          "text": [
            "Epoch 1/10\n",
            "196/196 [==============================] - 27s 133ms/step - loss: 0.6836 - accuracy: 0.5398 - val_loss: 0.4869 - val_accuracy: 0.7814\n",
            "Epoch 2/10\n",
            "196/196 [==============================] - 25s 126ms/step - loss: 0.4372 - accuracy: 0.8037 - val_loss: 0.6000 - val_accuracy: 0.6631\n",
            "Epoch 3/10\n",
            "196/196 [==============================] - 25s 127ms/step - loss: 0.4398 - accuracy: 0.7949 - val_loss: 0.4049 - val_accuracy: 0.8331\n",
            "Epoch 4/10\n",
            "196/196 [==============================] - 25s 125ms/step - loss: 0.2621 - accuracy: 0.8986 - val_loss: 0.3944 - val_accuracy: 0.8358\n",
            "Epoch 5/10\n",
            "196/196 [==============================] - 25s 126ms/step - loss: 0.1913 - accuracy: 0.9329 - val_loss: 0.4144 - val_accuracy: 0.8370\n",
            "Epoch 6/10\n",
            "196/196 [==============================] - 25s 126ms/step - loss: 0.1352 - accuracy: 0.9549 - val_loss: 0.4441 - val_accuracy: 0.8326\n",
            "Epoch 7/10\n",
            "196/196 [==============================] - 25s 127ms/step - loss: 0.0886 - accuracy: 0.9744 - val_loss: 0.5056 - val_accuracy: 0.8258\n",
            "Epoch 8/10\n",
            "196/196 [==============================] - 25s 126ms/step - loss: 0.0635 - accuracy: 0.9834 - val_loss: 0.5524 - val_accuracy: 0.8354\n",
            "Epoch 9/10\n",
            "196/196 [==============================] - 31s 156ms/step - loss: 0.0399 - accuracy: 0.9901 - val_loss: 0.6097 - val_accuracy: 0.8221\n",
            "Epoch 10/10\n",
            "196/196 [==============================] - 25s 126ms/step - loss: 0.0292 - accuracy: 0.9929 - val_loss: 0.6661 - val_accuracy: 0.8159\n"
          ],
          "name": "stdout"
        }
      ]
    },
    {
      "cell_type": "code",
      "metadata": {
        "colab": {
          "base_uri": "https://localhost:8080/",
          "height": 797
        },
        "id": "_Yk-O2skTShX",
        "outputId": "423aa836-bc2a-44df-fabd-48b61a820f9a"
      },
      "source": [
        "def plot_loss(history):\r\n",
        "  plt.figure(figsize=(10,6))\r\n",
        "  plt.plot(history.epoch,history.history['loss'])\r\n",
        "  plt.plot(history.epoch,history.history['val_loss'])\r\n",
        "  plt.title('loss')\r\n",
        "\r\n",
        "def plot_accuracy(history):\r\n",
        "  plt.figure(figsize=(10,6))\r\n",
        "  plt.plot(history.epoch,history.history['accuracy'])\r\n",
        "  plt.plot(history.epoch,history.history['val_accuracy'])\r\n",
        "  plt.title('accuracy')\r\n",
        "\r\n",
        "plot_loss(history)\r\n",
        "\r\n",
        "plot_accuracy(history)\r\n",
        "\r\n",
        "scores = model.evaluate(X_test_trim, y_test, verbose=2)\r\n",
        "print(\"%s: %.2f%%\" % (model.metrics_names[1], scores[1]*100))"
      ],
      "execution_count": 14,
      "outputs": [
        {
          "output_type": "stream",
          "text": [
            "391/391 - 7s - loss: 0.6171 - accuracy: 0.8255\n",
            "accuracy: 82.55%\n"
          ],
          "name": "stdout"
        },
        {
          "output_type": "display_data",
          "data": {
            "image/png": "[encoded data removed]",
            "text/plain": [
              "<Figure size 720x432 with 1 Axes>"
            ]
          },
          "metadata": {
            "tags": [],
            "needs_background": "light"
          }
        },
        {
          "output_type": "display_data",
          "data": {
            "image/png": "[encoded data removed]",
            "text/plain": [
              "<Figure size 720x432 with 1 Axes>"
            ]
          },
          "metadata": {
            "tags": [],
            "needs_background": "light"
          }
        }
      ]
    }
  ]
}