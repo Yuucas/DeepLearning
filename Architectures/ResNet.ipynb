{
  "nbformat": 4,
  "nbformat_minor": 0,
  "metadata": {
    "colab": {
      "provenance": []
    },
    "kernelspec": {
      "name": "python3",
      "display_name": "Python 3"
    },
    "language_info": {
      "name": "python"
    },
    "accelerator": "GPU",
    "gpuClass": "standard",
    "widgets": {
      "application/vnd.jupyter.widget-state+json": {
        "204ccc171a9f44848e42d1796a14a290": {
          "model_module": "@jupyter-widgets/controls",
          "model_name": "HBoxModel",
          "model_module_version": "1.5.0",
          "state": {
            "_dom_classes": [],
            "_model_module": "@jupyter-widgets/controls",
            "_model_module_version": "1.5.0",
            "_model_name": "HBoxModel",
            "_view_count": null,
            "_view_module": "@jupyter-widgets/controls",
            "_view_module_version": "1.5.0",
            "_view_name": "HBoxView",
            "box_style": "",
            "children": [
              "IPY_MODEL_b2505c5302934904912069ba833ef6fd",
              "IPY_MODEL_1e8f398fd07a43d4baa428c960ddb7b3",
              "IPY_MODEL_98b59b635765442182eb9462ae862863"
            ],
            "layout": "IPY_MODEL_09d22df1fca24b0db5a47e84589a57db"
          }
        },
        "b2505c5302934904912069ba833ef6fd": {
          "model_module": "@jupyter-widgets/controls",
          "model_name": "HTMLModel",
          "model_module_version": "1.5.0",
          "state": {
            "_dom_classes": [],
            "_model_module": "@jupyter-widgets/controls",
            "_model_module_version": "1.5.0",
            "_model_name": "HTMLModel",
            "_view_count": null,
            "_view_module": "@jupyter-widgets/controls",
            "_view_module_version": "1.5.0",
            "_view_name": "HTMLView",
            "description": "",
            "description_tooltip": null,
            "layout": "IPY_MODEL_a81a93813bba48e585140f0729576bfe",
            "placeholder": "​",
            "style": "IPY_MODEL_2e99c34fb281457b8a285fd6c1c5f4c5",
            "value": "100%"
          }
        },
        "1e8f398fd07a43d4baa428c960ddb7b3": {
          "model_module": "@jupyter-widgets/controls",
          "model_name": "FloatProgressModel",
          "model_module_version": "1.5.0",
          "state": {
            "_dom_classes": [],
            "_model_module": "@jupyter-widgets/controls",
            "_model_module_version": "1.5.0",
            "_model_name": "FloatProgressModel",
            "_view_count": null,
            "_view_module": "@jupyter-widgets/controls",
            "_view_module_version": "1.5.0",
            "_view_name": "ProgressView",
            "bar_style": "success",
            "description": "",
            "description_tooltip": null,
            "layout": "IPY_MODEL_9acfee5d9d4e44889973e0a104f5dca4",
            "max": 170498071,
            "min": 0,
            "orientation": "horizontal",
            "style": "IPY_MODEL_c4effdf4b7dd4f0ab8fc59836ec0d818",
            "value": 170498071
          }
        },
        "98b59b635765442182eb9462ae862863": {
          "model_module": "@jupyter-widgets/controls",
          "model_name": "HTMLModel",
          "model_module_version": "1.5.0",
          "state": {
            "_dom_classes": [],
            "_model_module": "@jupyter-widgets/controls",
            "_model_module_version": "1.5.0",
            "_model_name": "HTMLModel",
            "_view_count": null,
            "_view_module": "@jupyter-widgets/controls",
            "_view_module_version": "1.5.0",
            "_view_name": "HTMLView",
            "description": "",
            "description_tooltip": null,
            "layout": "IPY_MODEL_cf644c066e814be1af6e3d447e953cf5",
            "placeholder": "​",
            "style": "IPY_MODEL_a505ee72cfbb4b909924bcc88f427f7d",
            "value": " 170498071/170498071 [00:03&lt;00:00, 40051168.01it/s]"
          }
        },
        "09d22df1fca24b0db5a47e84589a57db": {
          "model_module": "@jupyter-widgets/base",
          "model_name": "LayoutModel",
          "model_module_version": "1.2.0",
          "state": {
            "_model_module": "@jupyter-widgets/base",
            "_model_module_version": "1.2.0",
            "_model_name": "LayoutModel",
            "_view_count": null,
            "_view_module": "@jupyter-widgets/base",
            "_view_module_version": "1.2.0",
            "_view_name": "LayoutView",
            "align_content": null,
            "align_items": null,
            "align_self": null,
            "border": null,
            "bottom": null,
            "display": null,
            "flex": null,
            "flex_flow": null,
            "grid_area": null,
            "grid_auto_columns": null,
            "grid_auto_flow": null,
            "grid_auto_rows": null,
            "grid_column": null,
            "grid_gap": null,
            "grid_row": null,
            "grid_template_areas": null,
            "grid_template_columns": null,
            "grid_template_rows": null,
            "height": null,
            "justify_content": null,
            "justify_items": null,
            "left": null,
            "margin": null,
            "max_height": null,
            "max_width": null,
            "min_height": null,
            "min_width": null,
            "object_fit": null,
            "object_position": null,
            "order": null,
            "overflow": null,
            "overflow_x": null,
            "overflow_y": null,
            "padding": null,
            "right": null,
            "top": null,
            "visibility": null,
            "width": null
          }
        },
        "a81a93813bba48e585140f0729576bfe": {
          "model_module": "@jupyter-widgets/base",
          "model_name": "LayoutModel",
          "model_module_version": "1.2.0",
          "state": {
            "_model_module": "@jupyter-widgets/base",
            "_model_module_version": "1.2.0",
            "_model_name": "LayoutModel",
            "_view_count": null,
            "_view_module": "@jupyter-widgets/base",
            "_view_module_version": "1.2.0",
            "_view_name": "LayoutView",
            "align_content": null,
            "align_items": null,
            "align_self": null,
            "border": null,
            "bottom": null,
            "display": null,
            "flex": null,
            "flex_flow": null,
            "grid_area": null,
            "grid_auto_columns": null,
            "grid_auto_flow": null,
            "grid_auto_rows": null,
            "grid_column": null,
            "grid_gap": null,
            "grid_row": null,
            "grid_template_areas": null,
            "grid_template_columns": null,
            "grid_template_rows": null,
            "height": null,
            "justify_content": null,
            "justify_items": null,
            "left": null,
            "margin": null,
            "max_height": null,
            "max_width": null,
            "min_height": null,
            "min_width": null,
            "object_fit": null,
            "object_position": null,
            "order": null,
            "overflow": null,
            "overflow_x": null,
            "overflow_y": null,
            "padding": null,
            "right": null,
            "top": null,
            "visibility": null,
            "width": null
          }
        },
        "2e99c34fb281457b8a285fd6c1c5f4c5": {
          "model_module": "@jupyter-widgets/controls",
          "model_name": "DescriptionStyleModel",
          "model_module_version": "1.5.0",
          "state": {
            "_model_module": "@jupyter-widgets/controls",
            "_model_module_version": "1.5.0",
            "_model_name": "DescriptionStyleModel",
            "_view_count": null,
            "_view_module": "@jupyter-widgets/base",
            "_view_module_version": "1.2.0",
            "_view_name": "StyleView",
            "description_width": ""
          }
        },
        "9acfee5d9d4e44889973e0a104f5dca4": {
          "model_module": "@jupyter-widgets/base",
          "model_name": "LayoutModel",
          "model_module_version": "1.2.0",
          "state": {
            "_model_module": "@jupyter-widgets/base",
            "_model_module_version": "1.2.0",
            "_model_name": "LayoutModel",
            "_view_count": null,
            "_view_module": "@jupyter-widgets/base",
            "_view_module_version": "1.2.0",
            "_view_name": "LayoutView",
            "align_content": null,
            "align_items": null,
            "align_self": null,
            "border": null,
            "bottom": null,
            "display": null,
            "flex": null,
            "flex_flow": null,
            "grid_area": null,
            "grid_auto_columns": null,
            "grid_auto_flow": null,
            "grid_auto_rows": null,
            "grid_column": null,
            "grid_gap": null,
            "grid_row": null,
            "grid_template_areas": null,
            "grid_template_columns": null,
            "grid_template_rows": null,
            "height": null,
            "justify_content": null,
            "justify_items": null,
            "left": null,
            "margin": null,
            "max_height": null,
            "max_width": null,
            "min_height": null,
            "min_width": null,
            "object_fit": null,
            "object_position": null,
            "order": null,
            "overflow": null,
            "overflow_x": null,
            "overflow_y": null,
            "padding": null,
            "right": null,
            "top": null,
            "visibility": null,
            "width": null
          }
        },
        "c4effdf4b7dd4f0ab8fc59836ec0d818": {
          "model_module": "@jupyter-widgets/controls",
          "model_name": "ProgressStyleModel",
          "model_module_version": "1.5.0",
          "state": {
            "_model_module": "@jupyter-widgets/controls",
            "_model_module_version": "1.5.0",
            "_model_name": "ProgressStyleModel",
            "_view_count": null,
            "_view_module": "@jupyter-widgets/base",
            "_view_module_version": "1.2.0",
            "_view_name": "StyleView",
            "bar_color": null,
            "description_width": ""
          }
        },
        "cf644c066e814be1af6e3d447e953cf5": {
          "model_module": "@jupyter-widgets/base",
          "model_name": "LayoutModel",
          "model_module_version": "1.2.0",
          "state": {
            "_model_module": "@jupyter-widgets/base",
            "_model_module_version": "1.2.0",
            "_model_name": "LayoutModel",
            "_view_count": null,
            "_view_module": "@jupyter-widgets/base",
            "_view_module_version": "1.2.0",
            "_view_name": "LayoutView",
            "align_content": null,
            "align_items": null,
            "align_self": null,
            "border": null,
            "bottom": null,
            "display": null,
            "flex": null,
            "flex_flow": null,
            "grid_area": null,
            "grid_auto_columns": null,
            "grid_auto_flow": null,
            "grid_auto_rows": null,
            "grid_column": null,
            "grid_gap": null,
            "grid_row": null,
            "grid_template_areas": null,
            "grid_template_columns": null,
            "grid_template_rows": null,
            "height": null,
            "justify_content": null,
            "justify_items": null,
            "left": null,
            "margin": null,
            "max_height": null,
            "max_width": null,
            "min_height": null,
            "min_width": null,
            "object_fit": null,
            "object_position": null,
            "order": null,
            "overflow": null,
            "overflow_x": null,
            "overflow_y": null,
            "padding": null,
            "right": null,
            "top": null,
            "visibility": null,
            "width": null
          }
        },
        "a505ee72cfbb4b909924bcc88f427f7d": {
          "model_module": "@jupyter-widgets/controls",
          "model_name": "DescriptionStyleModel",
          "model_module_version": "1.5.0",
          "state": {
            "_model_module": "@jupyter-widgets/controls",
            "_model_module_version": "1.5.0",
            "_model_name": "DescriptionStyleModel",
            "_view_count": null,
            "_view_module": "@jupyter-widgets/base",
            "_view_module_version": "1.2.0",
            "_view_name": "StyleView",
            "description_width": ""
          }
        }
      }
    }
  },
  "cells": [
    {
      "cell_type": "markdown",
      "source": [
        "# Import Libraries"
      ],
      "metadata": {
        "id": "YmzR-D8Y7K8t"
      }
    },
    {
      "cell_type": "code",
      "execution_count": null,
      "metadata": {
        "id": "R0b_Nhap4eEy"
      },
      "outputs": [],
      "source": [
        "import os\n",
        "import torch\n",
        "import torch.nn as nn\n",
        "import torch.nn.functional as F\n",
        "import torch.optim as optim\n",
        "from collections import OrderedDict\n",
        "from torchvision import transforms, datasets\n",
        "from torchsummary import summary\n",
        "from torch.utils.data import Dataset, DataLoader, random_split"
      ]
    },
    {
      "cell_type": "markdown",
      "source": [
        "# Load CIFAR-10 Dataset"
      ],
      "metadata": {
        "id": "swz9ts_f7U2N"
      }
    },
    {
      "cell_type": "code",
      "source": [
        "def dataloader_cifar():\n",
        "    transform = transforms.Compose([transforms.ToTensor(),\n",
        "                                    transforms.Normalize(mean=[0.5], std=[0.5])])\n",
        "            \n",
        "    # Input Data in Local Machine\n",
        "    # train_dataset = datasets.CIFAR10('../input_data', train=True, download=True, transform=transform)\n",
        "    # test_dataset = datasets.CIFAR10('../input_data', train=False, download=True, transform=transform)\n",
        "    \n",
        "    # Input Data in Google Drive\n",
        "    train_dataset = datasets.CIFAR10('/content/CIFAR10', train=True, download=True, transform=transform)\n",
        "    test_dataset = datasets.CIFAR10('/content/CIFAR10', train=False, download=True, transform=transform)\n",
        "\n",
        "    # Split dataset into training set and validation set.\n",
        "    train_dataset, val_dataset = random_split(train_dataset, (45000, 5000))\n",
        "    \n",
        "    print(\"Image shape of a random sample image : {}\".format(train_dataset[0][0].numpy().shape), end = '\\n\\n')\n",
        "    \n",
        "    print(\"Training Set:   {} images\".format(len(train_dataset)))\n",
        "    print(\"Validation Set:   {} images\".format(len(val_dataset)))\n",
        "    print(\"Test Set:       {} images\".format(len(test_dataset)))\n",
        "    \n",
        "    BATCH_SIZE = 32\n",
        "\n",
        "    # Generate dataloader\n",
        "    train_loader = DataLoader(train_dataset, batch_size=BATCH_SIZE, shuffle=True)\n",
        "    val_loader = DataLoader(val_dataset, batch_size=BATCH_SIZE, shuffle=True)\n",
        "    test_loader = DataLoader(test_dataset, batch_size=10000, shuffle=True)\n",
        "    \n",
        "    return train_loader, val_loader, test_loader"
      ],
      "metadata": {
        "id": "tlBV5RH-7N3J"
      },
      "execution_count": null,
      "outputs": []
    },
    {
      "cell_type": "code",
      "source": [
        "train_loader, val_loader, test_loader = dataloader_cifar()"
      ],
      "metadata": {
        "colab": {
          "base_uri": "https://localhost:8080/",
          "height": 188,
          "referenced_widgets": [
            "204ccc171a9f44848e42d1796a14a290",
            "b2505c5302934904912069ba833ef6fd",
            "1e8f398fd07a43d4baa428c960ddb7b3",
            "98b59b635765442182eb9462ae862863",
            "09d22df1fca24b0db5a47e84589a57db",
            "a81a93813bba48e585140f0729576bfe",
            "2e99c34fb281457b8a285fd6c1c5f4c5",
            "9acfee5d9d4e44889973e0a104f5dca4",
            "c4effdf4b7dd4f0ab8fc59836ec0d818",
            "cf644c066e814be1af6e3d447e953cf5",
            "a505ee72cfbb4b909924bcc88f427f7d"
          ]
        },
        "id": "qX2cTXF17rId",
        "outputId": "d1d7b5d7-b7ce-4176-8da0-bdce869adbb9"
      },
      "execution_count": null,
      "outputs": [
        {
          "output_type": "stream",
          "name": "stdout",
          "text": [
            "Downloading https://www.cs.toronto.edu/~kriz/cifar-10-python.tar.gz to /content/CIFAR10/cifar-10-python.tar.gz\n"
          ]
        },
        {
          "output_type": "display_data",
          "data": {
            "text/plain": [
              "  0%|          | 0/170498071 [00:00<?, ?it/s]"
            ],
            "application/vnd.jupyter.widget-view+json": {
              "version_major": 2,
              "version_minor": 0,
              "model_id": "204ccc171a9f44848e42d1796a14a290"
            }
          },
          "metadata": {}
        },
        {
          "output_type": "stream",
          "name": "stdout",
          "text": [
            "Extracting /content/CIFAR10/cifar-10-python.tar.gz to /content/CIFAR10\n",
            "Files already downloaded and verified\n",
            "Image shape of a random sample image : (3, 32, 32)\n",
            "\n",
            "Training Set:   45000 images\n",
            "Validation Set:   5000 images\n",
            "Test Set:       10000 images\n"
          ]
        }
      ]
    },
    {
      "cell_type": "markdown",
      "source": [
        "# Define ResNet"
      ],
      "metadata": {
        "id": "ZdmzaJKE71M5"
      }
    },
    {
      "cell_type": "code",
      "source": [
        "class LambdaLayer(nn.Module):\n",
        "    \n",
        "    def __init__(self, lambd):\n",
        "        super(LambdaLayer, self).__init__()\n",
        "        self.lambd = lambd\n",
        "    \n",
        "    def forward(self, x):\n",
        "        return self.lambd(x)\n",
        "\n",
        "class BasicConvBlock(nn.Module):\n",
        "    \n",
        "    ''' The BasicConvBlock takes an input with in_channels, applies some blocks of convolutional layers \n",
        "    to reduce it to out_channels and sum it up to the original input. \n",
        "    If their sizes mismatch, then the input goes into an identity. \n",
        "    \n",
        "    Basically The BasicConvBlock will implement the regular basic Conv Block + \n",
        "    the shortcut block that does the dimension matching job (option A or B) when dimension changes between 2 blocks\n",
        "    '''\n",
        "    \n",
        "    def __init__(self, in_channels, out_channels, stride=1, option='A'):\n",
        "        super(BasicConvBlock, self).__init__()\n",
        "        \n",
        "        self.features = nn.Sequential(OrderedDict([\n",
        "            ('conv1', nn.Conv2d(in_channels, out_channels, kernel_size=3, stride=stride, padding=1, bias=False)),\n",
        "            ('bn1', nn.BatchNorm2d(out_channels)),\n",
        "            ('act1', nn.ReLU()),\n",
        "            ('conv2', nn.Conv2d(out_channels, out_channels, kernel_size=3, stride=1, padding=1, bias=False)),\n",
        "            ('bn2', nn.BatchNorm2d(out_channels))\n",
        "        ]))\n",
        "\n",
        "        self.shortcut = nn.Sequential()\n",
        "        \n",
        "        '''  When input and output spatial dimensions don't match, we have 2 options, with stride:\n",
        "            - A) Use identity shortcuts with zero padding to increase channel dimension.    \n",
        "            - B) Use 1x1 convolution to increase channel dimension (projection shortcut).\n",
        "         '''\n",
        "        if stride != 1 or in_channels != out_channels:\n",
        "            if option == 'A':\n",
        "                # Use identity shortcuts with zero padding to increase channel dimension.\n",
        "                pad_to_add = out_channels//4\n",
        "                ''' ::2 is doing the job of stride = 2\n",
        "                F.pad apply padding to (W,H,C,N).\n",
        "                \n",
        "                The padding lengths are specified in reverse order of the dimensions,\n",
        "                F.pad(x[:, :, ::2, ::2], (0,0, 0,0, pad,pad, 0,0))\n",
        "\n",
        "                [width_beginning, width_end, height_beginning, height_end, channel_beginning, channel_end, batchLength_beginning, batchLength_end ]\n",
        "\n",
        "                '''\n",
        "                self.shortcut = LambdaLayer(lambda x:\n",
        "                            F.pad(x[:, :, ::2, ::2], (0,0, 0,0, pad_to_add, pad_to_add, 0,0)))\n",
        "            if option == 'B':\n",
        "                self.shortcut = nn.Sequential(OrderedDict([\n",
        "                    ('s_conv1', nn.Conv2d(in_channels, 2*out_channels, kernel_size=1, stride=stride, padding=0, bias=False)),\n",
        "                    ('s_bn1', nn.BatchNorm2d(2*out_channels))\n",
        "                ]))\n",
        "        \n",
        "    def forward(self, x):\n",
        "        out = self.features(x)\n",
        "        # sum it up with shortcut layer\n",
        "        out += self.shortcut(x)\n",
        "        out = F.relu(out)\n",
        "        return out"
      ],
      "metadata": {
        "id": "odikDT9H7zKs"
      },
      "execution_count": null,
      "outputs": []
    },
    {
      "cell_type": "code",
      "source": [
        "class ResNet(nn.Module):\n",
        "    \"\"\"\n",
        "        ResNet-56 architecture for CIFAR-10 Dataset of shape 32*32*3\n",
        "    \"\"\"\n",
        "    def __init__(self, block_type, num_blocks):\n",
        "        super(ResNet, self).__init__()\n",
        "        \n",
        "        self.in_channels = 32\n",
        "        \n",
        "        self.conv0 = nn.Conv2d(3, 32, kernel_size=3, stride=1, padding=1, bias=False)\n",
        "        self.bn0 = nn.BatchNorm2d(32)\n",
        "        \n",
        "        self.block1 = self.__build_layer(block_type, 32, num_blocks[0], starting_stride=1)\n",
        "        \n",
        "        self.block2 = self.__build_layer(block_type, 64, num_blocks[1], starting_stride=2)\n",
        "        \n",
        "        self.block3 = self.__build_layer(block_type, 128, num_blocks[2], starting_stride=2)\n",
        "        \n",
        "        self.avgpool = nn.AdaptiveAvgPool2d((1,1))\n",
        "        self.linear = nn.Linear(128, 10)\n",
        "    \n",
        "    def __build_layer(self, block_type, out_channels, num_blocks, starting_stride):\n",
        "        \n",
        "        strides_list_for_current_block = [starting_stride] + [1]*(num_blocks-1)\n",
        "        ''' Above line will generate an array whose first element is starting_stride\n",
        "        And it will have (num_blocks-1) more elements each of value 1\n",
        "         '''\n",
        "        # print('strides_list_for_current_block ', strides_list_for_current_block)\n",
        "        \n",
        "        layers = []\n",
        "        \n",
        "        for stride in strides_list_for_current_block:\n",
        "            layers.append(block_type(self.in_channels, out_channels, stride))\n",
        "            self.in_channels = out_channels\n",
        "        \n",
        "        return nn.Sequential(*layers)\n",
        "    \n",
        "    def forward(self, x):\n",
        "        out = F.relu(self.bn0(self.conv0(x)))\n",
        "        out = self.block1(out)\n",
        "        out = self.block2(out)        \n",
        "        out = self.block3(out)\n",
        "        out = self.avgpool(out)\n",
        "        out = torch.flatten(out, 1)\n",
        "        out = self.linear(out)\n",
        "        return out"
      ],
      "metadata": {
        "id": "7IoMEgZdChW1"
      },
      "execution_count": null,
      "outputs": []
    },
    {
      "cell_type": "code",
      "source": [
        "def ResNet56():\n",
        "    return ResNet(block_type=BasicConvBlock, num_blocks=[9,9,9])"
      ],
      "metadata": {
        "id": "MffwcrZ8Cs6c"
      },
      "execution_count": null,
      "outputs": []
    },
    {
      "cell_type": "code",
      "source": [
        "# Summarize the model\n",
        "model = ResNet56()\n",
        "device = torch.device(\"cuda\") if torch.cuda.is_available() else torch.device(\"cpu\")\n",
        "# device = 'cpu'\n",
        "model.to(device)\n",
        "summary(model, (3, 32, 32))"
      ],
      "metadata": {
        "colab": {
          "base_uri": "https://localhost:8080/"
        },
        "id": "CZ6GVMFK8AUC",
        "outputId": "f49c871c-fd7d-422a-cd90-0ede4bb441ed"
      },
      "execution_count": null,
      "outputs": [
        {
          "output_type": "stream",
          "name": "stdout",
          "text": [
            "----------------------------------------------------------------\n",
            "        Layer (type)               Output Shape         Param #\n",
            "================================================================\n",
            "            Conv2d-1           [-1, 32, 32, 32]             864\n",
            "       BatchNorm2d-2           [-1, 32, 32, 32]              64\n",
            "            Conv2d-3           [-1, 32, 32, 32]           9,216\n",
            "       BatchNorm2d-4           [-1, 32, 32, 32]              64\n",
            "              ReLU-5           [-1, 32, 32, 32]               0\n",
            "            Conv2d-6           [-1, 32, 32, 32]           9,216\n",
            "       BatchNorm2d-7           [-1, 32, 32, 32]              64\n",
            "    BasicConvBlock-8           [-1, 32, 32, 32]               0\n",
            "            Conv2d-9           [-1, 32, 32, 32]           9,216\n",
            "      BatchNorm2d-10           [-1, 32, 32, 32]              64\n",
            "             ReLU-11           [-1, 32, 32, 32]               0\n",
            "           Conv2d-12           [-1, 32, 32, 32]           9,216\n",
            "      BatchNorm2d-13           [-1, 32, 32, 32]              64\n",
            "   BasicConvBlock-14           [-1, 32, 32, 32]               0\n",
            "           Conv2d-15           [-1, 32, 32, 32]           9,216\n",
            "      BatchNorm2d-16           [-1, 32, 32, 32]              64\n",
            "             ReLU-17           [-1, 32, 32, 32]               0\n",
            "           Conv2d-18           [-1, 32, 32, 32]           9,216\n",
            "      BatchNorm2d-19           [-1, 32, 32, 32]              64\n",
            "   BasicConvBlock-20           [-1, 32, 32, 32]               0\n",
            "           Conv2d-21           [-1, 32, 32, 32]           9,216\n",
            "      BatchNorm2d-22           [-1, 32, 32, 32]              64\n",
            "             ReLU-23           [-1, 32, 32, 32]               0\n",
            "           Conv2d-24           [-1, 32, 32, 32]           9,216\n",
            "      BatchNorm2d-25           [-1, 32, 32, 32]              64\n",
            "   BasicConvBlock-26           [-1, 32, 32, 32]               0\n",
            "           Conv2d-27           [-1, 32, 32, 32]           9,216\n",
            "      BatchNorm2d-28           [-1, 32, 32, 32]              64\n",
            "             ReLU-29           [-1, 32, 32, 32]               0\n",
            "           Conv2d-30           [-1, 32, 32, 32]           9,216\n",
            "      BatchNorm2d-31           [-1, 32, 32, 32]              64\n",
            "   BasicConvBlock-32           [-1, 32, 32, 32]               0\n",
            "           Conv2d-33           [-1, 32, 32, 32]           9,216\n",
            "      BatchNorm2d-34           [-1, 32, 32, 32]              64\n",
            "             ReLU-35           [-1, 32, 32, 32]               0\n",
            "           Conv2d-36           [-1, 32, 32, 32]           9,216\n",
            "      BatchNorm2d-37           [-1, 32, 32, 32]              64\n",
            "   BasicConvBlock-38           [-1, 32, 32, 32]               0\n",
            "           Conv2d-39           [-1, 32, 32, 32]           9,216\n",
            "      BatchNorm2d-40           [-1, 32, 32, 32]              64\n",
            "             ReLU-41           [-1, 32, 32, 32]               0\n",
            "           Conv2d-42           [-1, 32, 32, 32]           9,216\n",
            "      BatchNorm2d-43           [-1, 32, 32, 32]              64\n",
            "   BasicConvBlock-44           [-1, 32, 32, 32]               0\n",
            "           Conv2d-45           [-1, 32, 32, 32]           9,216\n",
            "      BatchNorm2d-46           [-1, 32, 32, 32]              64\n",
            "             ReLU-47           [-1, 32, 32, 32]               0\n",
            "           Conv2d-48           [-1, 32, 32, 32]           9,216\n",
            "      BatchNorm2d-49           [-1, 32, 32, 32]              64\n",
            "   BasicConvBlock-50           [-1, 32, 32, 32]               0\n",
            "           Conv2d-51           [-1, 32, 32, 32]           9,216\n",
            "      BatchNorm2d-52           [-1, 32, 32, 32]              64\n",
            "             ReLU-53           [-1, 32, 32, 32]               0\n",
            "           Conv2d-54           [-1, 32, 32, 32]           9,216\n",
            "      BatchNorm2d-55           [-1, 32, 32, 32]              64\n",
            "   BasicConvBlock-56           [-1, 32, 32, 32]               0\n",
            "           Conv2d-57           [-1, 64, 16, 16]          18,432\n",
            "      BatchNorm2d-58           [-1, 64, 16, 16]             128\n",
            "             ReLU-59           [-1, 64, 16, 16]               0\n",
            "           Conv2d-60           [-1, 64, 16, 16]          36,864\n",
            "      BatchNorm2d-61           [-1, 64, 16, 16]             128\n",
            "      LambdaLayer-62           [-1, 64, 16, 16]               0\n",
            "   BasicConvBlock-63           [-1, 64, 16, 16]               0\n",
            "           Conv2d-64           [-1, 64, 16, 16]          36,864\n",
            "      BatchNorm2d-65           [-1, 64, 16, 16]             128\n",
            "             ReLU-66           [-1, 64, 16, 16]               0\n",
            "           Conv2d-67           [-1, 64, 16, 16]          36,864\n",
            "      BatchNorm2d-68           [-1, 64, 16, 16]             128\n",
            "   BasicConvBlock-69           [-1, 64, 16, 16]               0\n",
            "           Conv2d-70           [-1, 64, 16, 16]          36,864\n",
            "      BatchNorm2d-71           [-1, 64, 16, 16]             128\n",
            "             ReLU-72           [-1, 64, 16, 16]               0\n",
            "           Conv2d-73           [-1, 64, 16, 16]          36,864\n",
            "      BatchNorm2d-74           [-1, 64, 16, 16]             128\n",
            "   BasicConvBlock-75           [-1, 64, 16, 16]               0\n",
            "           Conv2d-76           [-1, 64, 16, 16]          36,864\n",
            "      BatchNorm2d-77           [-1, 64, 16, 16]             128\n",
            "             ReLU-78           [-1, 64, 16, 16]               0\n",
            "           Conv2d-79           [-1, 64, 16, 16]          36,864\n",
            "      BatchNorm2d-80           [-1, 64, 16, 16]             128\n",
            "   BasicConvBlock-81           [-1, 64, 16, 16]               0\n",
            "           Conv2d-82           [-1, 64, 16, 16]          36,864\n",
            "      BatchNorm2d-83           [-1, 64, 16, 16]             128\n",
            "             ReLU-84           [-1, 64, 16, 16]               0\n",
            "           Conv2d-85           [-1, 64, 16, 16]          36,864\n",
            "      BatchNorm2d-86           [-1, 64, 16, 16]             128\n",
            "   BasicConvBlock-87           [-1, 64, 16, 16]               0\n",
            "           Conv2d-88           [-1, 64, 16, 16]          36,864\n",
            "      BatchNorm2d-89           [-1, 64, 16, 16]             128\n",
            "             ReLU-90           [-1, 64, 16, 16]               0\n",
            "           Conv2d-91           [-1, 64, 16, 16]          36,864\n",
            "      BatchNorm2d-92           [-1, 64, 16, 16]             128\n",
            "   BasicConvBlock-93           [-1, 64, 16, 16]               0\n",
            "           Conv2d-94           [-1, 64, 16, 16]          36,864\n",
            "      BatchNorm2d-95           [-1, 64, 16, 16]             128\n",
            "             ReLU-96           [-1, 64, 16, 16]               0\n",
            "           Conv2d-97           [-1, 64, 16, 16]          36,864\n",
            "      BatchNorm2d-98           [-1, 64, 16, 16]             128\n",
            "   BasicConvBlock-99           [-1, 64, 16, 16]               0\n",
            "          Conv2d-100           [-1, 64, 16, 16]          36,864\n",
            "     BatchNorm2d-101           [-1, 64, 16, 16]             128\n",
            "            ReLU-102           [-1, 64, 16, 16]               0\n",
            "          Conv2d-103           [-1, 64, 16, 16]          36,864\n",
            "     BatchNorm2d-104           [-1, 64, 16, 16]             128\n",
            "  BasicConvBlock-105           [-1, 64, 16, 16]               0\n",
            "          Conv2d-106           [-1, 64, 16, 16]          36,864\n",
            "     BatchNorm2d-107           [-1, 64, 16, 16]             128\n",
            "            ReLU-108           [-1, 64, 16, 16]               0\n",
            "          Conv2d-109           [-1, 64, 16, 16]          36,864\n",
            "     BatchNorm2d-110           [-1, 64, 16, 16]             128\n",
            "  BasicConvBlock-111           [-1, 64, 16, 16]               0\n",
            "          Conv2d-112            [-1, 128, 8, 8]          73,728\n",
            "     BatchNorm2d-113            [-1, 128, 8, 8]             256\n",
            "            ReLU-114            [-1, 128, 8, 8]               0\n",
            "          Conv2d-115            [-1, 128, 8, 8]         147,456\n",
            "     BatchNorm2d-116            [-1, 128, 8, 8]             256\n",
            "     LambdaLayer-117            [-1, 128, 8, 8]               0\n",
            "  BasicConvBlock-118            [-1, 128, 8, 8]               0\n",
            "          Conv2d-119            [-1, 128, 8, 8]         147,456\n",
            "     BatchNorm2d-120            [-1, 128, 8, 8]             256\n",
            "            ReLU-121            [-1, 128, 8, 8]               0\n",
            "          Conv2d-122            [-1, 128, 8, 8]         147,456\n",
            "     BatchNorm2d-123            [-1, 128, 8, 8]             256\n",
            "  BasicConvBlock-124            [-1, 128, 8, 8]               0\n",
            "          Conv2d-125            [-1, 128, 8, 8]         147,456\n",
            "     BatchNorm2d-126            [-1, 128, 8, 8]             256\n",
            "            ReLU-127            [-1, 128, 8, 8]               0\n",
            "          Conv2d-128            [-1, 128, 8, 8]         147,456\n",
            "     BatchNorm2d-129            [-1, 128, 8, 8]             256\n",
            "  BasicConvBlock-130            [-1, 128, 8, 8]               0\n",
            "          Conv2d-131            [-1, 128, 8, 8]         147,456\n",
            "     BatchNorm2d-132            [-1, 128, 8, 8]             256\n",
            "            ReLU-133            [-1, 128, 8, 8]               0\n",
            "          Conv2d-134            [-1, 128, 8, 8]         147,456\n",
            "     BatchNorm2d-135            [-1, 128, 8, 8]             256\n",
            "  BasicConvBlock-136            [-1, 128, 8, 8]               0\n",
            "          Conv2d-137            [-1, 128, 8, 8]         147,456\n",
            "     BatchNorm2d-138            [-1, 128, 8, 8]             256\n",
            "            ReLU-139            [-1, 128, 8, 8]               0\n",
            "          Conv2d-140            [-1, 128, 8, 8]         147,456\n",
            "     BatchNorm2d-141            [-1, 128, 8, 8]             256\n",
            "  BasicConvBlock-142            [-1, 128, 8, 8]               0\n",
            "          Conv2d-143            [-1, 128, 8, 8]         147,456\n",
            "     BatchNorm2d-144            [-1, 128, 8, 8]             256\n",
            "            ReLU-145            [-1, 128, 8, 8]               0\n",
            "          Conv2d-146            [-1, 128, 8, 8]         147,456\n",
            "     BatchNorm2d-147            [-1, 128, 8, 8]             256\n",
            "  BasicConvBlock-148            [-1, 128, 8, 8]               0\n",
            "          Conv2d-149            [-1, 128, 8, 8]         147,456\n",
            "     BatchNorm2d-150            [-1, 128, 8, 8]             256\n",
            "            ReLU-151            [-1, 128, 8, 8]               0\n",
            "          Conv2d-152            [-1, 128, 8, 8]         147,456\n",
            "     BatchNorm2d-153            [-1, 128, 8, 8]             256\n",
            "  BasicConvBlock-154            [-1, 128, 8, 8]               0\n",
            "          Conv2d-155            [-1, 128, 8, 8]         147,456\n",
            "     BatchNorm2d-156            [-1, 128, 8, 8]             256\n",
            "            ReLU-157            [-1, 128, 8, 8]               0\n",
            "          Conv2d-158            [-1, 128, 8, 8]         147,456\n",
            "     BatchNorm2d-159            [-1, 128, 8, 8]             256\n",
            "  BasicConvBlock-160            [-1, 128, 8, 8]               0\n",
            "          Conv2d-161            [-1, 128, 8, 8]         147,456\n",
            "     BatchNorm2d-162            [-1, 128, 8, 8]             256\n",
            "            ReLU-163            [-1, 128, 8, 8]               0\n",
            "          Conv2d-164            [-1, 128, 8, 8]         147,456\n",
            "     BatchNorm2d-165            [-1, 128, 8, 8]             256\n",
            "  BasicConvBlock-166            [-1, 128, 8, 8]               0\n",
            "AdaptiveAvgPool2d-167            [-1, 128, 1, 1]               0\n",
            "          Linear-168                   [-1, 10]           1,290\n",
            "================================================================\n",
            "Total params: 3,401,770\n",
            "Trainable params: 3,401,770\n",
            "Non-trainable params: 0\n",
            "----------------------------------------------------------------\n",
            "Input size (MB): 0.01\n",
            "Forward/backward pass size (MB): 24.31\n",
            "Params size (MB): 12.98\n",
            "Estimated Total Size (MB): 37.30\n",
            "----------------------------------------------------------------\n"
          ]
        }
      ]
    },
    {
      "cell_type": "code",
      "source": [
        "# Define optimizer and loss function\n",
        "optimizer = optim.Adam(model.parameters(), lr=0.002)\n",
        "criterion = nn.CrossEntropyLoss()"
      ],
      "metadata": {
        "id": "weJHhEXo8cuo"
      },
      "execution_count": null,
      "outputs": []
    },
    {
      "cell_type": "markdown",
      "source": [
        "# Training"
      ],
      "metadata": {
        "id": "H7wffQRy8v16"
      }
    },
    {
      "cell_type": "code",
      "source": [
        "def train_model():\n",
        "    EPOCHS = 20\n",
        "    train_samples_num = 45000\n",
        "    val_samples_num = 5000\n",
        "    train_costs, val_costs = [], []\n",
        "    \n",
        "    #Training phase.    \n",
        "    for epoch in range(EPOCHS):\n",
        "\n",
        "        train_running_loss = 0\n",
        "        correct_train = 0\n",
        "        \n",
        "        model.train().cuda()\n",
        "        \n",
        "        for inputs, labels in train_loader:\n",
        "            inputs, labels = inputs.to(device), labels.to(device)\n",
        "            \n",
        "            \"\"\" for every mini-batch during the training phase, we typically want to explicitly set the gradients \n",
        "            to zero before starting to do backpropragation \"\"\"\n",
        "            optimizer.zero_grad()\n",
        "            \n",
        "            # Start the forward pass\n",
        "            prediction = model(inputs)\n",
        "                        \n",
        "            loss = criterion(prediction, labels)\n",
        "          \n",
        "            # do backpropagation and update weights with step()\n",
        "            loss.backward()         \n",
        "            optimizer.step()\n",
        "            \n",
        "            # print('outputs on which to apply torch.max ', prediction)\n",
        "            # find the maximum along the rows, use dim=1 to torch.max()\n",
        "            _, predicted_outputs = torch.max(prediction.data, 1)\n",
        "            \n",
        "            # Update the running corrects \n",
        "            correct_train += (predicted_outputs == labels).float().sum().item()\n",
        "            \n",
        "            ''' Compute batch loss\n",
        "            multiply each average batch loss with batch-length. \n",
        "            The batch-length is inputs.size(0) which gives the number total images in each batch. \n",
        "            Essentially I am un-averaging the previously calculated Loss '''\n",
        "            train_running_loss += (loss.data.item() * inputs.shape[0])\n",
        "\n",
        "\n",
        "        train_epoch_loss = train_running_loss / train_samples_num\n",
        "        \n",
        "        train_costs.append(train_epoch_loss)\n",
        "        \n",
        "        train_acc =  correct_train / train_samples_num\n",
        "\n",
        "        # Now check trained weights on the validation set\n",
        "        val_running_loss = 0\n",
        "        correct_val = 0\n",
        "      \n",
        "        model.eval().cuda()\n",
        "    \n",
        "        with torch.no_grad():\n",
        "            for inputs, labels in val_loader:\n",
        "                inputs, labels = inputs.to(device), labels.to(device)\n",
        "\n",
        "                # Forward pass.\n",
        "                prediction = model(inputs)\n",
        "\n",
        "                # Compute the loss.\n",
        "                loss = criterion(prediction, labels)\n",
        "\n",
        "                # Compute validation accuracy.\n",
        "                _, predicted_outputs = torch.max(prediction.data, 1)\n",
        "                correct_val += (predicted_outputs == labels).float().sum().item()\n",
        "\n",
        "            # Compute batch loss.\n",
        "            val_running_loss += (loss.data.item() * inputs.shape[0])\n",
        "\n",
        "            val_epoch_loss = val_running_loss / val_samples_num\n",
        "            val_costs.append(val_epoch_loss)\n",
        "            val_acc =  correct_val / val_samples_num\n",
        "        \n",
        "        info = \"[Epoch {}/{}]: train-loss = {:0.6f} | train-acc = {:0.3f} | val-loss = {:0.6f} | val-acc = {:0.3f}\"\n",
        "        \n",
        "        print(info.format(epoch+1, EPOCHS, train_epoch_loss, train_acc, val_epoch_loss, val_acc))\n",
        "        \n",
        "        torch.save(model.state_dict(), '/content/checkpoint_gpu_{}'.format(epoch + 1)) \n",
        "                                                                \n",
        "    torch.save(model.state_dict(), '/content/resnet-56_weights_gpu')  \n",
        "        \n",
        "    return train_costs, val_costs"
      ],
      "metadata": {
        "id": "9ISD_mdN8tXg"
      },
      "execution_count": null,
      "outputs": []
    },
    {
      "cell_type": "code",
      "source": [
        "train_costs, val_costs = train_model()"
      ],
      "metadata": {
        "colab": {
          "base_uri": "https://localhost:8080/"
        },
        "id": "bib2DoWW82ju",
        "outputId": "2b31dcec-a2a3-414c-c193-8dd7caee15b1"
      },
      "execution_count": null,
      "outputs": [
        {
          "output_type": "stream",
          "name": "stdout",
          "text": [
            "[Epoch 1/20]: train-loss = 1.540441 | train-acc = 0.436 | val-loss = 0.001678 | val-acc = 0.454\n",
            "[Epoch 2/20]: train-loss = 0.995146 | train-acc = 0.647 | val-loss = 0.000313 | val-acc = 0.668\n",
            "[Epoch 3/20]: train-loss = 0.733681 | train-acc = 0.744 | val-loss = 0.000497 | val-acc = 0.758\n",
            "[Epoch 4/20]: train-loss = 0.580947 | train-acc = 0.799 | val-loss = 0.001083 | val-acc = 0.807\n",
            "[Epoch 5/20]: train-loss = 0.472329 | train-acc = 0.836 | val-loss = 0.000968 | val-acc = 0.802\n",
            "[Epoch 6/20]: train-loss = 0.383236 | train-acc = 0.867 | val-loss = 0.000175 | val-acc = 0.831\n",
            "[Epoch 7/20]: train-loss = 0.303840 | train-acc = 0.896 | val-loss = 0.000864 | val-acc = 0.842\n",
            "[Epoch 8/20]: train-loss = 0.239448 | train-acc = 0.917 | val-loss = 0.000172 | val-acc = 0.842\n",
            "[Epoch 9/20]: train-loss = 0.177990 | train-acc = 0.937 | val-loss = 0.002207 | val-acc = 0.823\n",
            "[Epoch 10/20]: train-loss = 0.143272 | train-acc = 0.951 | val-loss = 0.000369 | val-acc = 0.853\n",
            "[Epoch 11/20]: train-loss = 0.112370 | train-acc = 0.961 | val-loss = 0.001542 | val-acc = 0.842\n",
            "[Epoch 12/20]: train-loss = 0.096314 | train-acc = 0.966 | val-loss = 0.001245 | val-acc = 0.844\n",
            "[Epoch 13/20]: train-loss = 0.086457 | train-acc = 0.970 | val-loss = 0.000110 | val-acc = 0.846\n",
            "[Epoch 14/20]: train-loss = 0.070282 | train-acc = 0.976 | val-loss = 0.000000 | val-acc = 0.860\n",
            "[Epoch 15/20]: train-loss = 0.064483 | train-acc = 0.978 | val-loss = 0.002906 | val-acc = 0.856\n",
            "[Epoch 16/20]: train-loss = 0.061148 | train-acc = 0.979 | val-loss = 0.001362 | val-acc = 0.858\n",
            "[Epoch 17/20]: train-loss = 0.055741 | train-acc = 0.981 | val-loss = 0.000319 | val-acc = 0.855\n",
            "[Epoch 18/20]: train-loss = 0.048377 | train-acc = 0.983 | val-loss = 0.002355 | val-acc = 0.848\n",
            "[Epoch 19/20]: train-loss = 0.047019 | train-acc = 0.984 | val-loss = 0.000539 | val-acc = 0.854\n",
            "[Epoch 20/20]: train-loss = 0.047127 | train-acc = 0.984 | val-loss = 0.000732 | val-acc = 0.854\n"
          ]
        }
      ]
    },
    {
      "cell_type": "code",
      "source": [
        "#Restore the model.\n",
        "model = ResNet56()\n",
        "model.load_state_dict(torch.load('/content/resnet-56_weights_gpu'))"
      ],
      "metadata": {
        "colab": {
          "base_uri": "https://localhost:8080/"
        },
        "id": "PG64WomfICS6",
        "outputId": "6998d2dd-c588-486c-9b9f-a5a52d637d51"
      },
      "execution_count": null,
      "outputs": [
        {
          "output_type": "execute_result",
          "data": {
            "text/plain": [
              "<All keys matched successfully>"
            ]
          },
          "metadata": {},
          "execution_count": 14
        }
      ]
    },
    {
      "cell_type": "markdown",
      "source": [
        "# Test the trained model on Test dataset"
      ],
      "metadata": {
        "id": "7_NNHiX1IEwS"
      }
    },
    {
      "cell_type": "code",
      "source": [
        "test_samples_num = 10000\n",
        "correct = 0 \n",
        "\n",
        "model.eval().cuda()\n",
        "\n",
        "with  torch.no_grad():\n",
        "    for inputs, labels in test_loader:\n",
        "        inputs, labels = inputs.to(device), labels.to(device)\n",
        "        # Make predictions.\n",
        "        prediction = model(inputs)\n",
        "\n",
        "        # Retrieve predictions indexes.\n",
        "        _, predicted_class = torch.max(prediction.data, 1)\n",
        "\n",
        "        # Compute number of correct predictions.\n",
        "        correct += (predicted_class == labels).float().sum().item()\n",
        "\n",
        "test_accuracy = correct / test_samples_num\n",
        "print('Test accuracy: {}'.format(test_accuracy))"
      ],
      "metadata": {
        "colab": {
          "base_uri": "https://localhost:8080/"
        },
        "id": "eSDV2QSdIFx1",
        "outputId": "ac10c59c-9759-418e-fa83-020767cae2ad"
      },
      "execution_count": null,
      "outputs": [
        {
          "output_type": "stream",
          "name": "stdout",
          "text": [
            "Test accuracy: 0.8403\n"
          ]
        }
      ]
    }
  ]
}