{
  "cells": [
    {
      "cell_type": "markdown",
      "metadata": {
        "id": "view-in-github",
        "colab_type": "text"
      },
      "source": [
        "<a href=\"https://colab.research.google.com/github/Yuucas/DeepLearning/blob/main/fcc_book_recommendation_knn.ipynb\" target=\"_parent\"><img src=\"https://colab.research.google.com/assets/colab-badge.svg\" alt=\"Open In Colab\"/></a>"
      ]
    },
    {
      "cell_type": "code",
      "execution_count": 1,
      "metadata": {
        "id": "Y1onB6kUvo4Z"
      },
      "outputs": [],
      "source": [
        "# import libraries (you may add additional imports but you may not have to)\n",
        "import numpy as np\n",
        "import pandas as pd\n",
        "from scipy.sparse import csr_matrix\n",
        "from sklearn.neighbors import NearestNeighbors\n",
        "import matplotlib.pyplot as plt"
      ]
    },
    {
      "cell_type": "code",
      "execution_count": 2,
      "metadata": {
        "id": "iAQGqqO_vo4d",
        "colab": {
          "base_uri": "https://localhost:8080/"
        },
        "outputId": "ab49fecf-d373-4f34-b3ec-b384763e5ccf"
      },
      "outputs": [
        {
          "output_type": "stream",
          "name": "stdout",
          "text": [
            "--2022-10-10 15:50:45--  https://cdn.freecodecamp.org/project-data/books/book-crossings.zip\n",
            "Resolving cdn.freecodecamp.org (cdn.freecodecamp.org)... 172.67.70.149, 104.26.3.33, 104.26.2.33, ...\n",
            "Connecting to cdn.freecodecamp.org (cdn.freecodecamp.org)|172.67.70.149|:443... connected.\n",
            "HTTP request sent, awaiting response... 200 OK\n",
            "Length: 26085508 (25M) [application/zip]\n",
            "Saving to: ‘book-crossings.zip’\n",
            "\n",
            "book-crossings.zip  100%[===================>]  24.88M   129MB/s    in 0.2s    \n",
            "\n",
            "2022-10-10 15:50:45 (129 MB/s) - ‘book-crossings.zip’ saved [26085508/26085508]\n",
            "\n",
            "Archive:  book-crossings.zip\n",
            "  inflating: BX-Book-Ratings.csv     \n",
            "  inflating: BX-Books.csv            \n",
            "  inflating: BX-Users.csv            \n"
          ]
        }
      ],
      "source": [
        "# get data files\n",
        "!wget https://cdn.freecodecamp.org/project-data/books/book-crossings.zip\n",
        "\n",
        "!unzip book-crossings.zip\n",
        "\n",
        "books_filename = 'BX-Books.csv'\n",
        "ratings_filename = 'BX-Book-Ratings.csv'"
      ]
    },
    {
      "cell_type": "code",
      "execution_count": 3,
      "metadata": {
        "id": "NClILWOiEd6Q"
      },
      "outputs": [],
      "source": [
        "# import csv data into dataframes\n",
        "df_books = pd.read_csv(\n",
        "    books_filename,\n",
        "    encoding = \"ISO-8859-1\",\n",
        "    sep=\";\",\n",
        "    header=0,\n",
        "    names=['isbn', 'title', 'author'],\n",
        "    usecols=['isbn', 'title', 'author'],\n",
        "    dtype={'isbn': 'str', 'title': 'str', 'author': 'str'})\n",
        "\n",
        "df_ratings = pd.read_csv(\n",
        "    ratings_filename,\n",
        "    encoding = \"ISO-8859-1\",\n",
        "    sep=\";\",\n",
        "    header=0,\n",
        "    names=['user', 'isbn', 'rating'],\n",
        "    usecols=['user', 'isbn', 'rating'],\n",
        "    dtype={'user': 'int32', 'isbn': 'str', 'rating': 'float32'})"
      ]
    },
    {
      "cell_type": "code",
      "execution_count": 4,
      "metadata": {
        "id": "xAcXjkCFCh0A"
      },
      "outputs": [],
      "source": [
        "# Calculate user and book rating counts\n",
        "user_RatingCount = df_ratings.groupby('user')['rating'].count().reset_index().rename(columns = {'rating':'userTotalRatingCount'})\n",
        "book_RatingCount = df_ratings.groupby('isbn')['rating'].count().reset_index().rename(columns = {'rating':'bookTotalRatingCount'})\n",
        "\n",
        "# Add to df_ratings\n",
        "df_ratings = df_ratings.merge(user_RatingCount,how='left', left_on='user', right_on='user')\n",
        "df_ratings = df_ratings.merge(book_RatingCount, how='left', left_on='isbn', right_on='isbn')\n",
        "\n",
        "# Filter data for statistical significance\n",
        "df_ratings_2 =df_ratings.loc[(df_ratings['userTotalRatingCount']>=200) & (df_ratings['bookTotalRatingCount']>=100)]"
      ]
    },
    {
      "cell_type": "code",
      "source": [
        "# merge data sets\n",
        "books_with_ratings = pd.merge(df_ratings_2, df_books, on='isbn')\n",
        "print(books_with_ratings)"
      ],
      "metadata": {
        "colab": {
          "base_uri": "https://localhost:8080/"
        },
        "id": "GeV27ws0mBYa",
        "outputId": "79dc4464-93a8-42e4-e810-825856d09896"
      },
      "execution_count": 5,
      "outputs": [
        {
          "output_type": "stream",
          "name": "stdout",
          "text": [
            "         user        isbn  rating  userTotalRatingCount  bookTotalRatingCount  \\\n",
            "0      277427  002542730X    10.0                   497                   171   \n",
            "1        3363  002542730X     0.0                   901                   171   \n",
            "2       11676  002542730X     6.0                 13602                   171   \n",
            "3       12538  002542730X    10.0                  1351                   171   \n",
            "4       13552  002542730X     0.0                   709                   171   \n",
            "...       ...         ...     ...                   ...                   ...   \n",
            "49512  238864  0399149325     0.0                   353                   113   \n",
            "49513  251843  0399149325     1.0                   338                   113   \n",
            "49514  253821  0399149325     0.0                   337                   113   \n",
            "49515  265115  0399149325     0.0                  1221                   113   \n",
            "49516  266226  0399149325     0.0                  1314                   113   \n",
            "\n",
            "                                                   title             author  \n",
            "0      Politically Correct Bedtime Stories: Modern Ta...  James Finn Garner  \n",
            "1      Politically Correct Bedtime Stories: Modern Ta...  James Finn Garner  \n",
            "2      Politically Correct Bedtime Stories: Modern Ta...  James Finn Garner  \n",
            "3      Politically Correct Bedtime Stories: Modern Ta...  James Finn Garner  \n",
            "4      Politically Correct Bedtime Stories: Modern Ta...  James Finn Garner  \n",
            "...                                                  ...                ...  \n",
            "49512  Portrait of a Killer: Jack the Ripper -- Case ...  Patricia Cornwell  \n",
            "49513  Portrait of a Killer: Jack the Ripper -- Case ...  Patricia Cornwell  \n",
            "49514  Portrait of a Killer: Jack the Ripper -- Case ...  Patricia Cornwell  \n",
            "49515  Portrait of a Killer: Jack the Ripper -- Case ...  Patricia Cornwell  \n",
            "49516  Portrait of a Killer: Jack the Ripper -- Case ...  Patricia Cornwell  \n",
            "\n",
            "[49517 rows x 7 columns]\n"
          ]
        }
      ]
    },
    {
      "cell_type": "code",
      "source": [
        "# Remove duplicates\n",
        "books_with_ratings_2 = books_with_ratings.drop_duplicates(['title', 'user'])"
      ],
      "metadata": {
        "id": "FK1tUUoUmFYn"
      },
      "execution_count": 6,
      "outputs": []
    },
    {
      "cell_type": "code",
      "source": [
        "# Preparing data table for analysis\n",
        "books_with_ratings_pivot = pd.pivot_table(data=books_with_ratings_2, values='rating', index='title', columns='user').fillna(0)\n",
        "print(books_with_ratings_pivot)"
      ],
      "metadata": {
        "colab": {
          "base_uri": "https://localhost:8080/"
        },
        "id": "3IncoBtmmHPS",
        "outputId": "197759ef-0ac4-4af5-d138-e2859f6560d4"
      },
      "execution_count": 7,
      "outputs": [
        {
          "output_type": "stream",
          "name": "stdout",
          "text": [
            "user                                                254     2276    2766    \\\n",
            "title                                                                        \n",
            "1984                                                   9.0     0.0     0.0   \n",
            "1st to Die: A Novel                                    0.0     0.0     0.0   \n",
            "2nd Chance                                             0.0    10.0     0.0   \n",
            "4 Blondes                                              0.0     0.0     0.0   \n",
            "A Beautiful Mind: The Life of Mathematical Geni...     0.0     0.0     0.0   \n",
            "...                                                    ...     ...     ...   \n",
            "Without Remorse                                        0.0     0.0     0.0   \n",
            "Year of Wonders                                        0.0     0.0     0.0   \n",
            "You Belong To Me                                       0.0     0.0     0.0   \n",
            "Zen and the Art of Motorcycle Maintenance: An I...     0.0     0.0     0.0   \n",
            "\\O\\\" Is for Outlaw\"                                    0.0     0.0     0.0   \n",
            "\n",
            "user                                                2977    3363    4017    \\\n",
            "title                                                                        \n",
            "1984                                                   0.0     0.0     0.0   \n",
            "1st to Die: A Novel                                    0.0     0.0     0.0   \n",
            "2nd Chance                                             0.0     0.0     0.0   \n",
            "4 Blondes                                              0.0     0.0     0.0   \n",
            "A Beautiful Mind: The Life of Mathematical Geni...     0.0     0.0     0.0   \n",
            "...                                                    ...     ...     ...   \n",
            "Without Remorse                                        0.0     0.0     0.0   \n",
            "Year of Wonders                                        7.0     0.0     0.0   \n",
            "You Belong To Me                                       0.0     0.0     0.0   \n",
            "Zen and the Art of Motorcycle Maintenance: An I...     0.0     0.0     0.0   \n",
            "\\O\\\" Is for Outlaw\"                                    0.0     0.0     0.0   \n",
            "\n",
            "user                                                4385    6242    6251    \\\n",
            "title                                                                        \n",
            "1984                                                   0.0     0.0     0.0   \n",
            "1st to Die: A Novel                                    0.0     0.0     0.0   \n",
            "2nd Chance                                             0.0     0.0     0.0   \n",
            "4 Blondes                                              0.0     0.0     0.0   \n",
            "A Beautiful Mind: The Life of Mathematical Geni...     0.0     0.0     0.0   \n",
            "...                                                    ...     ...     ...   \n",
            "Without Remorse                                        0.0     0.0     0.0   \n",
            "Year of Wonders                                        0.0     7.0     0.0   \n",
            "You Belong To Me                                       0.0     0.0     0.0   \n",
            "Zen and the Art of Motorcycle Maintenance: An I...     0.0     0.0     0.0   \n",
            "\\O\\\" Is for Outlaw\"                                    0.0     0.0     0.0   \n",
            "\n",
            "user                                                6323    ...  274004  \\\n",
            "title                                                       ...           \n",
            "1984                                                   0.0  ...     0.0   \n",
            "1st to Die: A Novel                                    0.0  ...     0.0   \n",
            "2nd Chance                                             0.0  ...     0.0   \n",
            "4 Blondes                                              0.0  ...     0.0   \n",
            "A Beautiful Mind: The Life of Mathematical Geni...     0.0  ...     0.0   \n",
            "...                                                    ...  ...     ...   \n",
            "Without Remorse                                        0.0  ...     0.0   \n",
            "Year of Wonders                                        0.0  ...     0.0   \n",
            "You Belong To Me                                       0.0  ...     0.0   \n",
            "Zen and the Art of Motorcycle Maintenance: An I...     0.0  ...     0.0   \n",
            "\\O\\\" Is for Outlaw\"                                    0.0  ...     0.0   \n",
            "\n",
            "user                                                274061  274301  274308  \\\n",
            "title                                                                        \n",
            "1984                                                   0.0     0.0     0.0   \n",
            "1st to Die: A Novel                                    0.0     0.0     0.0   \n",
            "2nd Chance                                             0.0     0.0     0.0   \n",
            "4 Blondes                                              0.0     0.0     0.0   \n",
            "A Beautiful Mind: The Life of Mathematical Geni...     0.0     0.0     0.0   \n",
            "...                                                    ...     ...     ...   \n",
            "Without Remorse                                        0.0     0.0     0.0   \n",
            "Year of Wonders                                        0.0     0.0     0.0   \n",
            "You Belong To Me                                       0.0     0.0     0.0   \n",
            "Zen and the Art of Motorcycle Maintenance: An I...     0.0     0.0     0.0   \n",
            "\\O\\\" Is for Outlaw\"                                    0.0     8.0     0.0   \n",
            "\n",
            "user                                                274808  275970  277427  \\\n",
            "title                                                                        \n",
            "1984                                                   0.0     0.0     0.0   \n",
            "1st to Die: A Novel                                    0.0     0.0     0.0   \n",
            "2nd Chance                                             0.0     0.0     0.0   \n",
            "4 Blondes                                              0.0     0.0     0.0   \n",
            "A Beautiful Mind: The Life of Mathematical Geni...     0.0     0.0     0.0   \n",
            "...                                                    ...     ...     ...   \n",
            "Without Remorse                                        0.0     0.0     0.0   \n",
            "Year of Wonders                                        0.0     0.0     0.0   \n",
            "You Belong To Me                                       0.0     0.0     0.0   \n",
            "Zen and the Art of Motorcycle Maintenance: An I...     0.0     0.0     0.0   \n",
            "\\O\\\" Is for Outlaw\"                                    0.0     0.0     0.0   \n",
            "\n",
            "user                                                277478  277639  278418  \n",
            "title                                                                       \n",
            "1984                                                   0.0     0.0     0.0  \n",
            "1st to Die: A Novel                                    0.0     0.0     0.0  \n",
            "2nd Chance                                             0.0     0.0     0.0  \n",
            "4 Blondes                                              0.0     0.0     0.0  \n",
            "A Beautiful Mind: The Life of Mathematical Geni...     0.0     0.0     0.0  \n",
            "...                                                    ...     ...     ...  \n",
            "Without Remorse                                        0.0     0.0     0.0  \n",
            "Year of Wonders                                        0.0     0.0     0.0  \n",
            "You Belong To Me                                       0.0     0.0     0.0  \n",
            "Zen and the Art of Motorcycle Maintenance: An I...     0.0     0.0     0.0  \n",
            "\\O\\\" Is for Outlaw\"                                    0.0     0.0     0.0  \n",
            "\n",
            "[673 rows x 888 columns]\n"
          ]
        }
      ]
    },
    {
      "cell_type": "code",
      "source": [
        "# Convert to 2D matrıx\n",
        "books_with_ratings_matrix = csr_matrix(books_with_ratings_pivot.values)"
      ],
      "metadata": {
        "id": "Cp-G5L4HmKvM"
      },
      "execution_count": 8,
      "outputs": []
    },
    {
      "cell_type": "code",
      "source": [
        "# Train Model\n",
        "model_knn = NearestNeighbors(algorithm='auto', metric='cosine')\n",
        "model_knn.fit(books_with_ratings_matrix)\n",
        "\n",
        "NearestNeighbors(algorithm='auto', leaf_size=30, metric='cosine',\n",
        "                 metric_params=None, n_jobs=None, n_neighbors=5, p=2,\n",
        "                 radius=1.0)"
      ],
      "metadata": {
        "colab": {
          "base_uri": "https://localhost:8080/"
        },
        "id": "kF8FjT-cmNfG",
        "outputId": "26e56ebe-675f-45a7-e906-3c5bde9827ce"
      },
      "execution_count": 9,
      "outputs": [
        {
          "output_type": "execute_result",
          "data": {
            "text/plain": [
              "NearestNeighbors(metric='cosine')"
            ]
          },
          "metadata": {},
          "execution_count": 9
        }
      ]
    },
    {
      "cell_type": "code",
      "execution_count": 10,
      "metadata": {
        "id": "f5ZUd-L1SQz7"
      },
      "outputs": [],
      "source": [
        "# function to return recommended books - this will be tested\n",
        "def get_recommends(book = \"\"):\n",
        "\n",
        "  X = books_with_ratings_pivot[books_with_ratings_pivot.index == book]\n",
        "  X = X.to_numpy().reshape(1,-1)\n",
        "  distances, indices = model_knn.kneighbors(X,n_neighbors=8)\n",
        "  recommended_books = []\n",
        "  for x in reversed(range(1,6)):\n",
        "      bookrecommended = [books_with_ratings_pivot.index[indices.flatten()[x]], distances.flatten()[x]]\n",
        "      recommended_books.append(bookrecommended)\n",
        "  recommended_books = [book, recommended_books]\n",
        "  \n",
        "  return recommended_books"
      ]
    },
    {
      "cell_type": "code",
      "execution_count": 11,
      "metadata": {
        "id": "jd2SLCh8oxMh",
        "colab": {
          "base_uri": "https://localhost:8080/"
        },
        "outputId": "1c987604-01a1-449d-ebb9-00ec11cf4b40"
      },
      "outputs": [
        {
          "output_type": "stream",
          "name": "stdout",
          "text": [
            "[\"Where the Heart Is (Oprah's Book Club (Paperback))\", [[\"I'll Be Seeing You\", 0.8016211], ['The Weight of Water', 0.77085835], ['The Surgeon', 0.7699411], ['I Know This Much Is True', 0.7677075], ['The Lovely Bones: A Novel', 0.7234864]]]\n",
            "You passed the challenge! 🎉🎉🎉🎉🎉\n"
          ]
        }
      ],
      "source": [
        "books = get_recommends(\"Where the Heart Is (Oprah's Book Club (Paperback))\")\n",
        "print(books)\n",
        "\n",
        "def test_book_recommendation():\n",
        "  test_pass = True\n",
        "  recommends = get_recommends(\"Where the Heart Is (Oprah's Book Club (Paperback))\")\n",
        "  if recommends[0] != \"Where the Heart Is (Oprah's Book Club (Paperback))\":\n",
        "    test_pass = False\n",
        "  recommended_books = [\"I'll Be Seeing You\", 'The Weight of Water', 'The Surgeon', 'I Know This Much Is True']\n",
        "  recommended_books_dist = [0.8, 0.77, 0.77, 0.77]\n",
        "  for i in range(2): \n",
        "    if recommends[1][i][0] not in recommended_books:\n",
        "      test_pass = False\n",
        "    if abs(recommends[1][i][1] - recommended_books_dist[i]) >= 0.05:\n",
        "      test_pass = False\n",
        "  if test_pass:\n",
        "    print(\"You passed the challenge! 🎉🎉🎉🎉🎉\")\n",
        "  else:\n",
        "    print(\"You haven't passed yet. Keep trying!\")\n",
        "\n",
        "test_book_recommendation()"
      ]
    }
  ],
  "metadata": {
    "colab": {
      "collapsed_sections": [],
      "provenance": [],
      "include_colab_link": true
    },
    "kernelspec": {
      "display_name": "Python 3",
      "language": "python",
      "name": "python3"
    },
    "language_info": {
      "codemirror_mode": {
        "name": "ipython",
        "version": 3
      },
      "file_extension": ".py",
      "mimetype": "text/x-python",
      "name": "python",
      "nbconvert_exporter": "python",
      "pygments_lexer": "ipython3",
      "version": "3.6.5"
    }
  },
  "nbformat": 4,
  "nbformat_minor": 0
}