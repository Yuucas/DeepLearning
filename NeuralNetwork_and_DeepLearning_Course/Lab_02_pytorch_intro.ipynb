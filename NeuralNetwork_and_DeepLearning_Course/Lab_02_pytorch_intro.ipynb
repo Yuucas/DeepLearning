{
  "nbformat": 4,
  "nbformat_minor": 0,
  "metadata": {
    "colab": {
      "name": "Lab_02_pytorch_intro.ipynb",
      "provenance": [],
      "collapsed_sections": [],
      "toc_visible": true
    },
    "kernelspec": {
      "name": "python3",
      "display_name": "Python 3"
    },
    "accelerator": "GPU"
  },
  "cells": [
    {
      "cell_type": "markdown",
      "metadata": {
        "id": "gRboflunHqye"
      },
      "source": [
        "#NEURAL NETWORKS AND DEEP LEARNING\n",
        "> M.Sc. ICT FOR LIFE AND HEALTH\n",
        "> \n",
        "> Department of Information Engineering\n",
        "\n",
        "> M.Sc. COMPUTER ENGINEERING\n",
        ">\n",
        "> Department of Information Engineering\n",
        "\n",
        "> M.Sc. AUTOMATION ENGINEERING\n",
        ">\n",
        "> Department of Information Engineering\n",
        " \n",
        "> M.Sc. PHYSICS OF DATA\n",
        ">\n",
        "> Department of Physics and Astronomy\n",
        " \n",
        "> M.Sc. COGNITIVE NEUROSCIENCE AND CLINICAL NEUROPSYCHOLOGY\n",
        ">\n",
        "> Department of General Psychology\n",
        "\n",
        "---\n",
        "A.A. 2020/21 (6 CFU) - Dr. Alberto Testolin, Dr. Matteo Gadaleta\n",
        "---\n",
        "\n",
        "\n",
        "##Lab. 02 - Introduction to PyTorch"
      ]
    },
    {
      "cell_type": "code",
      "metadata": {
        "id": "ODcSwFcDXrtD"
      },
      "source": [
        "import numpy as np\n",
        "import matplotlib.pyplot as plt\n",
        "\n",
        "import torch\n",
        "import torch.nn as nn\n",
        "import torch.optim as optim\n",
        "from torch.utils.data import Dataset, DataLoader\n",
        "from torchvision import transforms"
      ],
      "execution_count": 1,
      "outputs": []
    },
    {
      "cell_type": "markdown",
      "metadata": {
        "id": "qweR50Z9anMW"
      },
      "source": [
        "# Tensors"
      ]
    },
    {
      "cell_type": "markdown",
      "metadata": {
        "id": "SZk77zMOhPk8"
      },
      "source": [
        "Tensors are the main object to interact with the PyTorch library. They are similar to NumPy’s arrays, with the addition being that Tensors can also be used on a GPU to accelerate computing."
      ]
    },
    {
      "cell_type": "code",
      "metadata": {
        "id": "BSUg910NarHz",
        "colab": {
          "base_uri": "https://localhost:8080/"
        },
        "outputId": "5730a565-0283-4a79-965a-ee4d3e6d2b8f"
      },
      "source": [
        "x = torch.tensor([1, 2, 3])\n",
        "print(x)\n",
        "print(x.type())"
      ],
      "execution_count": 2,
      "outputs": [
        {
          "output_type": "stream",
          "text": [
            "tensor([1, 2, 3])\n",
            "torch.LongTensor\n"
          ],
          "name": "stdout"
        }
      ]
    },
    {
      "cell_type": "markdown",
      "metadata": {
        "id": "eNsBpFWjhjOM"
      },
      "source": [
        "The data type is inferred automatically, but it is always a good practice to ensure that the data type is what expected."
      ]
    },
    {
      "cell_type": "code",
      "metadata": {
        "id": "dAfdcmXia7U_",
        "colab": {
          "base_uri": "https://localhost:8080/"
        },
        "outputId": "d04039ad-1eb6-4b69-fdbd-21488ccb9c54"
      },
      "source": [
        "x = torch.tensor([1, 2, 3]).float()\n",
        "print(x)\n",
        "print(x.type())"
      ],
      "execution_count": 3,
      "outputs": [
        {
          "output_type": "stream",
          "text": [
            "tensor([1., 2., 3.])\n",
            "torch.FloatTensor\n"
          ],
          "name": "stdout"
        }
      ]
    },
    {
      "cell_type": "markdown",
      "metadata": {
        "id": "dHGkCBmWh0yM"
      },
      "source": [
        "Most methods are similar to the numpy equivalent. For example:"
      ]
    },
    {
      "cell_type": "code",
      "metadata": {
        "id": "gxPCoqF9a74Y",
        "colab": {
          "base_uri": "https://localhost:8080/"
        },
        "outputId": "8b9ebd13-3e67-4f4b-b764-95f5eab5511e"
      },
      "source": [
        "x = torch.rand(4, 5)\n",
        "print(x)"
      ],
      "execution_count": 4,
      "outputs": [
        {
          "output_type": "stream",
          "text": [
            "tensor([[0.7442, 0.6172, 0.3038, 0.7009, 0.5295],\n",
            "        [0.9869, 0.9640, 0.1350, 0.7519, 0.3434],\n",
            "        [0.9695, 0.6404, 0.4573, 0.8147, 0.2578],\n",
            "        [0.8190, 0.0758, 0.4469, 0.4421, 0.6345]])\n"
          ],
          "name": "stdout"
        }
      ]
    },
    {
      "cell_type": "code",
      "metadata": {
        "id": "QJKdobg2a8Kf",
        "colab": {
          "base_uri": "https://localhost:8080/"
        },
        "outputId": "406c1df7-fe34-4834-8626-767a39eac117"
      },
      "source": [
        "x = torch.zeros(4, 5).long()\n",
        "print(x)"
      ],
      "execution_count": 5,
      "outputs": [
        {
          "output_type": "stream",
          "text": [
            "tensor([[0, 0, 0, 0, 0],\n",
            "        [0, 0, 0, 0, 0],\n",
            "        [0, 0, 0, 0, 0],\n",
            "        [0, 0, 0, 0, 0]])\n"
          ],
          "name": "stdout"
        }
      ]
    },
    {
      "cell_type": "code",
      "metadata": {
        "id": "eAUFFpcga8dH",
        "colab": {
          "base_uri": "https://localhost:8080/"
        },
        "outputId": "97fe03bf-4e81-474f-b9ba-40a918b8fc31"
      },
      "source": [
        "x = torch.ones(4, 5).double()\n",
        "print(x)"
      ],
      "execution_count": 6,
      "outputs": [
        {
          "output_type": "stream",
          "text": [
            "tensor([[1., 1., 1., 1., 1.],\n",
            "        [1., 1., 1., 1., 1.],\n",
            "        [1., 1., 1., 1., 1.],\n",
            "        [1., 1., 1., 1., 1.]], dtype=torch.float64)\n"
          ],
          "name": "stdout"
        }
      ]
    },
    {
      "cell_type": "code",
      "metadata": {
        "id": "FbNS6-jEiRnR",
        "colab": {
          "base_uri": "https://localhost:8080/"
        },
        "outputId": "ea1152e6-e842-4fba-abf8-41c1ae849050"
      },
      "source": [
        "a = torch.rand(3, 4)\n",
        "b = torch.rand(3, 4)\n",
        "\n",
        "c = torch.add(a, b)\n",
        "print(c)"
      ],
      "execution_count": 7,
      "outputs": [
        {
          "output_type": "stream",
          "text": [
            "tensor([[1.3776, 1.2478, 0.5991, 1.7131],\n",
            "        [1.0757, 0.6195, 1.2494, 0.9312],\n",
            "        [0.3765, 1.1135, 1.0880, 1.1191]])\n"
          ],
          "name": "stdout"
        }
      ]
    },
    {
      "cell_type": "markdown",
      "metadata": {
        "id": "xRyt4n9car9G"
      },
      "source": [
        "# Numpy bridge"
      ]
    },
    {
      "cell_type": "markdown",
      "metadata": {
        "id": "B0gH9l88h-9I"
      },
      "source": [
        "It is very easy to convert a numpy array to a tensor and vice-versa."
      ]
    },
    {
      "cell_type": "code",
      "metadata": {
        "id": "MqebOyCvasTN",
        "colab": {
          "base_uri": "https://localhost:8080/"
        },
        "outputId": "d60766a5-3418-4037-bbbc-186ec7d4169f"
      },
      "source": [
        "# Define a numpy array\n",
        "np_x = np.array([1,2,3,4,5], dtype=np.float32)\n",
        "print(np_x)"
      ],
      "execution_count": 8,
      "outputs": [
        {
          "output_type": "stream",
          "text": [
            "[1. 2. 3. 4. 5.]\n"
          ],
          "name": "stdout"
        }
      ]
    },
    {
      "cell_type": "code",
      "metadata": {
        "id": "NYjy4whibKH2",
        "colab": {
          "base_uri": "https://localhost:8080/"
        },
        "outputId": "38881f5d-c24f-4778-daee-459e8f74845e"
      },
      "source": [
        "# Convert to torch tensor\n",
        "torch_x = torch.from_numpy(np_x)\n",
        "print(torch_x)"
      ],
      "execution_count": 9,
      "outputs": [
        {
          "output_type": "stream",
          "text": [
            "tensor([1., 2., 3., 4., 5.])\n"
          ],
          "name": "stdout"
        }
      ]
    },
    {
      "cell_type": "code",
      "metadata": {
        "id": "YqvgzBK7bKb2",
        "colab": {
          "base_uri": "https://localhost:8080/"
        },
        "outputId": "d7768170-1930-481f-9b17-6d450c4ab3dd"
      },
      "source": [
        "# Go back to numpy\n",
        "np_x2 = torch_x.numpy()\n",
        "print(np_x2)"
      ],
      "execution_count": 10,
      "outputs": [
        {
          "output_type": "stream",
          "text": [
            "[1. 2. 3. 4. 5.]\n"
          ],
          "name": "stdout"
        }
      ]
    },
    {
      "cell_type": "markdown",
      "metadata": {
        "id": "6amfGGTeatvM"
      },
      "source": [
        "# Operations on GPU"
      ]
    },
    {
      "cell_type": "markdown",
      "metadata": {
        "id": "A4wriIShiVYH"
      },
      "source": [
        "One of the biggest benefit of PyTorch is that you can perform operations on GPU without changing the code.\n",
        "\n",
        "- The following code first check if a GPU is available.\n",
        "- If available, move the tensors *a* and *b* to the GPU memory.\n",
        "- The sum is performed on GPU, if available, otherwise on CPU, but the result will be exactly the same."
      ]
    },
    {
      "cell_type": "code",
      "metadata": {
        "id": "VCc1OP2gauBM",
        "colab": {
          "base_uri": "https://localhost:8080/"
        },
        "outputId": "7f12e0bc-4cb7-41fb-c13c-39f9bb1b5bc2"
      },
      "source": [
        "a = torch.rand(3, 4)\n",
        "b = torch.rand(3, 4)\n",
        "\n",
        "# Check if a cuda GPU is available\n",
        "if torch.cuda.is_available():\n",
        "    print('GPU availble')\n",
        "    # Define the device (here you can select which GPU to use if more than 1)\n",
        "    device = torch.device(\"cuda\")\n",
        "    # Move previous a and b tensors to the GPU\n",
        "    a = a.to(device)\n",
        "    b = b.to(device)\n",
        "else:\n",
        "    print('GPU not availble')\n",
        "\n",
        "# The operation on a and b will be executed on GPU, if available\n",
        "c = a + b\n",
        "# Move the result tensor back to CPU\n",
        "c = c.cpu()\n",
        "print(c)"
      ],
      "execution_count": 11,
      "outputs": [
        {
          "output_type": "stream",
          "text": [
            "GPU availble\n",
            "tensor([[0.8807, 0.8674, 1.6508, 1.3961],\n",
            "        [1.7900, 1.2047, 1.2695, 1.0843],\n",
            "        [1.1308, 1.3969, 0.9218, 1.3168]])\n"
          ],
          "name": "stdout"
        }
      ]
    },
    {
      "cell_type": "markdown",
      "metadata": {
        "id": "1F4G1G64aulO"
      },
      "source": [
        "# Autograd"
      ]
    },
    {
      "cell_type": "markdown",
      "metadata": {
        "id": "iFr7HVkcj7yz"
      },
      "source": [
        "PyTorch is able to automatically compute gradients on tensors that have been defined with the *requires_grad* flag. There's no need to say how much this is important for deep learning!\n",
        "\n",
        "But this functionality can be actually used for any gradient, even simple equations like $z = 3 x^2 + y^3$\n",
        "\n",
        "Let's try with $x=2$ and $y=3$"
      ]
    },
    {
      "cell_type": "code",
      "metadata": {
        "id": "uNHCD_EIau3G",
        "colab": {
          "base_uri": "https://localhost:8080/"
        },
        "outputId": "ccc1c918-dbc4-4011-f348-dd490947799a"
      },
      "source": [
        "# Define operations\n",
        "x = torch.tensor([2.0], requires_grad=True).float()\n",
        "y = torch.tensor([3.0], requires_grad=True).float()\n",
        "z = 3 * x**2 + y**3\n",
        "# Backward\n",
        "z.backward()\n",
        "# Print gradients\n",
        "print('dz/dx evaluated in %f: %f' % (x, x.grad)) # dz/dx = 6 * x = 12\n",
        "print('dz/dy evaluated in %f: %f' % (y, y.grad)) # dz/dy = 3 * y^2 = 27"
      ],
      "execution_count": 12,
      "outputs": [
        {
          "output_type": "stream",
          "text": [
            "dz/dx evaluated in 2.000000: 12.000000\n",
            "dz/dy evaluated in 3.000000: 27.000000\n"
          ],
          "name": "stdout"
        }
      ]
    },
    {
      "cell_type": "markdown",
      "metadata": {
        "id": "hi-SuAjUkiWH"
      },
      "source": [
        "The result is correct, in fact:\n",
        "\n",
        "$$\n",
        "z = 3 x^2 + y^3\\\\\n",
        "\\frac{dz}{dx} = 6 x = 12\\\\\n",
        "\\frac{dz}{dy} = 3 y^2 = 27\n",
        "$$\n"
      ]
    },
    {
      "cell_type": "markdown",
      "metadata": {
        "id": "XE3qIrFNlPfk"
      },
      "source": [
        "This also works for chained operations"
      ]
    },
    {
      "cell_type": "code",
      "metadata": {
        "id": "rJEhCxdqbiKo",
        "colab": {
          "base_uri": "https://localhost:8080/"
        },
        "outputId": "38f0cb3c-40bf-476f-8c82-ca9178c2c54f"
      },
      "source": [
        "# Define operations\n",
        "x = torch.tensor([2.0], requires_grad=True).float()\n",
        "y = 3 * x**2\n",
        "z = 2 * y**2\n",
        "# Backward\n",
        "z.backward()\n",
        "# Print gradients\n",
        "print('dz/dx evaluated in %f: %f' % (x, x.grad)) \n",
        "# dz/dx =\n",
        "# = (dz/dy) * (dy/dx) = \n",
        "# = (4*y) * (6*x)  = \n",
        "# = (4*3*x^2) * (6*x) =\n",
        "# = 72 * x^3\n",
        "print(f\"Correct value: {72 * 2**3}\")"
      ],
      "execution_count": 13,
      "outputs": [
        {
          "output_type": "stream",
          "text": [
            "dz/dx evaluated in 2.000000: 576.000000\n",
            "Correct value: 576\n"
          ],
          "name": "stdout"
        }
      ]
    },
    {
      "cell_type": "markdown",
      "metadata": {
        "id": "mdjvTBO_llVn"
      },
      "source": [
        "Useful deep learning functions are already implemented. Let's try with a sigmoid and its derivative."
      ]
    },
    {
      "cell_type": "code",
      "metadata": {
        "id": "0ivtXgiNlb9h",
        "colab": {
          "base_uri": "https://localhost:8080/",
          "height": 282
        },
        "outputId": "03b00601-ebf8-44ef-f211-987e08fee7c2"
      },
      "source": [
        "x = torch.linspace(-10, 10, 1000, requires_grad=True)\n",
        "y = torch.sigmoid(x)\n",
        "y.sum().backward()\n",
        "\n",
        "plt.plot(x.data.numpy(), y.data.numpy())\n",
        "plt.plot(x.data.numpy(), x.grad.numpy())"
      ],
      "execution_count": 14,
      "outputs": [
        {
          "output_type": "execute_result",
          "data": {
            "text/plain": [
              "[<matplotlib.lines.Line2D at 0x7f3c8813d450>]"
            ]
          },
          "metadata": {
            "tags": []
          },
          "execution_count": 14
        },
        {
          "output_type": "display_data",
          "data": {
            "image/png": "[encoded data removed]",
            "text/plain": [
              "<Figure size 432x288 with 1 Axes>"
            ]
          },
          "metadata": {
            "tags": [],
            "needs_background": "light"
          }
        }
      ]
    },
    {
      "cell_type": "markdown",
      "metadata": {
        "id": "kuOarw975RQq"
      },
      "source": [
        "# Network training procedure"
      ]
    },
    {
      "cell_type": "markdown",
      "metadata": {
        "id": "LcEtUGA0zePr"
      },
      "source": [
        "## Network Definition"
      ]
    },
    {
      "cell_type": "markdown",
      "metadata": {
        "id": "KvblBA0C1tcu"
      },
      "source": [
        "A network is defined by extending the *torch.nn.module* class. The basic structure is:\n",
        "\n",
        "```\n",
        "class Net(nn.Module):\n",
        "    \n",
        "    def __init__(self, input_parameters):\n",
        "        super().__init__() # This executes the parent __init__ method\n",
        "        [...]\n",
        "\n",
        "    def forward(self, x, optional_parameters):\n",
        "        [...]\n",
        "        return out # return the output of the network\n",
        "```\n",
        "\n",
        "You need to define two methods:\n",
        "*   **\\_\\_init\\_\\_**: The constructor method. This is exectuted when the object is initialized (no need to call it explicitly). Here you have to instantiate all the network's parameters. PyTorch provides utility functions to easily initialize most of the commonly used deep learning layers.\n",
        "*   **forward**: Here you define the forward pass of the network, from the input *x* to the output (the method must return the network output). You just need to define the forward part, the back-propagation is automatically tracked by the framework!"
      ]
    },
    {
      "cell_type": "markdown",
      "metadata": {
        "id": "Dhnl9oxR3daH"
      },
      "source": [
        "Let's try with a simple single layer feed-forward network. A fully connected layer is initialized with the utility method *torch.nn.Linear*. **Keep in mind that the activation function is not included!**\n",
        "\n",
        "Here you can find all the available layers: [https://pytorch.org/docs/stable/nn.html](https://pytorch.org/docs/stable/nn.html)"
      ]
    },
    {
      "cell_type": "code",
      "metadata": {
        "id": "6tXqq4f54Cae"
      },
      "source": [
        "class Net(nn.Module):\n",
        "    \n",
        "    def __init__(self, Ni, Nh, No):\n",
        "        \"\"\"\n",
        "        Ni - Input size\n",
        "        Nh - Neurons in the hidden layer\n",
        "        No - Output size\n",
        "        \"\"\"\n",
        "        super().__init__()\n",
        "        \n",
        "        print('Network initialized')\n",
        "        self.fc1 = nn.Linear(in_features=Ni, out_features=Nh)\n",
        "        self.out = nn.Linear(in_features=Nh, out_features=No)\n",
        "        self.act = nn.Sigmoid()\n",
        "        \n",
        "    def forward(self, x):\n",
        "        x = self.act(self.fc1(x))\n",
        "        x = self.out(x)\n",
        "        return x"
      ],
      "execution_count": 15,
      "outputs": []
    },
    {
      "cell_type": "markdown",
      "metadata": {
        "id": "u3-OBirD5d5Y"
      },
      "source": [
        "## Network Initialization"
      ]
    },
    {
      "cell_type": "markdown",
      "metadata": {
        "id": "nGrnSEP84u_4"
      },
      "source": [
        "Now we can initialize the network\n",
        "\n",
        "\n",
        "\n",
        "---\n",
        "\n",
        "*HINT*\n",
        "\n",
        "For reproducibility, it is always recommended to set a manual seed. In this way the randomly initialized network's parameters will be always the same. Try to disable it to see how the initialized weights change every time you redefine the network object.\n"
      ]
    },
    {
      "cell_type": "code",
      "metadata": {
        "id": "CsVbCcFv5kJM",
        "colab": {
          "base_uri": "https://localhost:8080/"
        },
        "outputId": "a7b4eca6-b4c2-46ef-c667-0be79caddacf"
      },
      "source": [
        "# Network parameters\n",
        "Ni = 1\n",
        "Nh = 32\n",
        "No = 1\n",
        "\n",
        "torch.manual_seed(0)\n",
        "net = Net(Ni, Nh, No)"
      ],
      "execution_count": 16,
      "outputs": [
        {
          "output_type": "stream",
          "text": [
            "Network initialized\n"
          ],
          "name": "stdout"
        }
      ]
    },
    {
      "cell_type": "markdown",
      "metadata": {
        "id": "jkkSRVMp5viC"
      },
      "source": [
        "As you can see from the *print* output, the *\\_\\_init\\_\\_* method has been executed."
      ]
    },
    {
      "cell_type": "markdown",
      "metadata": {
        "id": "bHaDo1zw6Dtm"
      },
      "source": [
        "You can see the network structure using the *print* function:"
      ]
    },
    {
      "cell_type": "code",
      "metadata": {
        "id": "tbJehKq66CKO",
        "colab": {
          "base_uri": "https://localhost:8080/"
        },
        "outputId": "c568481b-c127-4b1b-a7b0-faefd839025c"
      },
      "source": [
        "print(net)"
      ],
      "execution_count": 17,
      "outputs": [
        {
          "output_type": "stream",
          "text": [
            "Net(\n",
            "  (fc1): Linear(in_features=1, out_features=32, bias=True)\n",
            "  (out): Linear(in_features=32, out_features=1, bias=True)\n",
            "  (act): Sigmoid()\n",
            ")\n"
          ],
          "name": "stdout"
        }
      ]
    },
    {
      "cell_type": "markdown",
      "metadata": {
        "id": "IddCFlO96_ij"
      },
      "source": [
        "You can easily access the parameter values:\n",
        "\n",
        "Documetation:\n",
        "\n",
        "* [nn.Module.parameters](https://pytorch.org/docs/stable/generated/torch.nn.Module.html?highlight=parameters#torch.nn.Module.parameters)\n",
        "* [nn.Module.named_parameters](https://pytorch.org/docs/stable/generated/torch.nn.Module.html?highlight=named_param#torch.nn.Module.named_parameters)\n",
        "\n",
        "---\n",
        "*HINTS*\n",
        "\n",
        "Check the documentation to see how pyTorch initialize the parameters. This clearly depends on the layer's type."
      ]
    },
    {
      "cell_type": "code",
      "metadata": {
        "id": "b2GmUZjE6QIM",
        "colab": {
          "base_uri": "https://localhost:8080/"
        },
        "outputId": "c3b17ab9-ab2c-4df7-f131-85b8f084d3b7"
      },
      "source": [
        "for param_name, param_values in net.named_parameters():\n",
        "  param_values = param_values.detach().numpy() # Transform to numpy array, if needed\n",
        "  print(\"\\n####################################\")\n",
        "  print(\"####################################\")\n",
        "  print(f\"#### PARAMETER NAME: {param_name}\")\n",
        "  print(\"####################################\")\n",
        "  print(f\"#### PARAMETER SHAPE: {param_values.shape}\")\n",
        "  print(f\"#### PARAMETER VALUES: {param_values}\")"
      ],
      "execution_count": 18,
      "outputs": [
        {
          "output_type": "stream",
          "text": [
            "\n",
            "####################################\n",
            "####################################\n",
            "#### PARAMETER NAME: fc1.weight\n",
            "####################################\n",
            "#### PARAMETER SHAPE: (32, 1)\n",
            "#### PARAMETER VALUES: [[-0.00748682]\n",
            " [ 0.5364436 ]\n",
            " [-0.82304513]\n",
            " [-0.735939  ]\n",
            " [-0.38515437]\n",
            " [ 0.26815736]\n",
            " [-0.01981318]\n",
            " [ 0.7928895 ]\n",
            " [-0.08874404]\n",
            " [ 0.26461256]\n",
            " [-0.30221307]\n",
            " [-0.19656539]\n",
            " [-0.9553485 ]\n",
            " [-0.6622821 ]\n",
            " [-0.4122231 ]\n",
            " [ 0.03704357]\n",
            " [ 0.3953352 ]\n",
            " [ 0.6000228 ]\n",
            " [-0.6779411 ]\n",
            " [-0.43546283]\n",
            " [ 0.36321712]\n",
            " [ 0.83038795]\n",
            " [-0.20580018]\n",
            " [ 0.74831176]\n",
            " [-0.16118336]\n",
            " [ 0.1058141 ]\n",
            " [ 0.9054762 ]\n",
            " [-0.92767036]\n",
            " [-0.62953794]\n",
            " [-0.25316525]\n",
            " [-0.38979995]\n",
            " [ 0.8640008 ]]\n",
            "\n",
            "####################################\n",
            "####################################\n",
            "#### PARAMETER NAME: fc1.bias\n",
            "####################################\n",
            "#### PARAMETER SHAPE: (32,)\n",
            "#### PARAMETER VALUES: [-0.64817965 -0.46033287 -0.69864047 -0.936561   -0.5837405   0.85959804\n",
            "  0.44621837  0.48467255  0.05259156 -0.5126835   0.16918468 -0.9336947\n",
            " -0.72256625 -0.51553     0.63093793  0.58632123 -0.44349504 -0.03608239\n",
            "  0.6395607   0.9941331   0.39688218  0.13509285  0.67048633 -0.58880234\n",
            "  0.18634403 -0.7753055  -0.69308615 -0.51658356  0.45247304  0.4021604\n",
            " -0.5923525   0.3021071 ]\n",
            "\n",
            "####################################\n",
            "####################################\n",
            "#### PARAMETER NAME: out.weight\n",
            "####################################\n",
            "#### PARAMETER SHAPE: (1, 32)\n",
            "#### PARAMETER VALUES: [[ 0.09704546 -0.02231229  0.00674961  0.04095999  0.10966812  0.16973993\n",
            "  -0.13622828 -0.0647833   0.06947499  0.14646822  0.15383238  0.15598011\n",
            "   0.03518113 -0.15372194  0.01626213 -0.11059245 -0.16474777  0.15706477\n",
            "   0.13441388 -0.17633969  0.03308766 -0.0297798  -0.02909058 -0.08092075\n",
            "   0.06798057 -0.10470545  0.0648048   0.08939741  0.12654941  0.06609877\n",
            "  -0.17496212 -0.11467449]]\n",
            "\n",
            "####################################\n",
            "####################################\n",
            "#### PARAMETER NAME: out.bias\n",
            "####################################\n",
            "#### PARAMETER SHAPE: (1,)\n",
            "#### PARAMETER VALUES: [0.08826726]\n"
          ],
          "name": "stdout"
        }
      ]
    },
    {
      "cell_type": "markdown",
      "metadata": {
        "id": "aLrANQkcBgxp"
      },
      "source": [
        "In this case we have just 32 biases and 32 weights for the hidden layer and 32 weights and 1 bias for the output layer."
      ]
    },
    {
      "cell_type": "markdown",
      "metadata": {
        "id": "qfEjiSlkASLU"
      },
      "source": [
        "## Process input"
      ]
    },
    {
      "cell_type": "markdown",
      "metadata": {
        "id": "IFMv0N6nB15b"
      },
      "source": [
        "Let's define a batch of 128 random input values.\n",
        "\n",
        "Since we have a single input neuron, the input shape is be (128, 1)."
      ]
    },
    {
      "cell_type": "code",
      "metadata": {
        "id": "ye2TnCJvCGof"
      },
      "source": [
        "x = torch.rand(128, 1)"
      ],
      "execution_count": 19,
      "outputs": []
    },
    {
      "cell_type": "markdown",
      "metadata": {
        "id": "VTj9XnnvCMrZ"
      },
      "source": [
        "Processing the input is very simple, just call the network object with the data. PyTorch will call the forward function internally and automatically track the gradients."
      ]
    },
    {
      "cell_type": "code",
      "metadata": {
        "id": "RpWL3hcFCkCb",
        "colab": {
          "base_uri": "https://localhost:8080/"
        },
        "outputId": "203077c8-be78-4e03-8fdf-b40f9fa0d8dc"
      },
      "source": [
        "out = net(x)\n",
        "print(f\"OUTPUT VALUES: {out}\")\n",
        "print(f\"OUTPUT SHAPE: {out.shape}\")"
      ],
      "execution_count": 20,
      "outputs": [
        {
          "output_type": "stream",
          "text": [
            "OUTPUT VALUES: tensor([[0.2059],\n",
            "        [0.2411],\n",
            "        [0.2336],\n",
            "        [0.1821],\n",
            "        [0.1905],\n",
            "        [0.2285],\n",
            "        [0.2219],\n",
            "        [0.2475],\n",
            "        [0.2137],\n",
            "        [0.2401],\n",
            "        [0.2408],\n",
            "        [0.2150],\n",
            "        [0.2079],\n",
            "        [0.2276],\n",
            "        [0.1931],\n",
            "        [0.2348],\n",
            "        [0.1831],\n",
            "        [0.1901],\n",
            "        [0.2434],\n",
            "        [0.2218],\n",
            "        [0.2115],\n",
            "        [0.2080],\n",
            "        [0.2049],\n",
            "        [0.1997],\n",
            "        [0.2110],\n",
            "        [0.2304],\n",
            "        [0.1970],\n",
            "        [0.2477],\n",
            "        [0.2342],\n",
            "        [0.2219],\n",
            "        [0.2304],\n",
            "        [0.2254],\n",
            "        [0.2425],\n",
            "        [0.2205],\n",
            "        [0.2057],\n",
            "        [0.2364],\n",
            "        [0.2148],\n",
            "        [0.1891],\n",
            "        [0.2166],\n",
            "        [0.2121],\n",
            "        [0.2161],\n",
            "        [0.2061],\n",
            "        [0.1917],\n",
            "        [0.1819],\n",
            "        [0.1917],\n",
            "        [0.1818],\n",
            "        [0.2156],\n",
            "        [0.2455],\n",
            "        [0.2299],\n",
            "        [0.1903],\n",
            "        [0.2133],\n",
            "        [0.2307],\n",
            "        [0.2406],\n",
            "        [0.2468],\n",
            "        [0.2434],\n",
            "        [0.2202],\n",
            "        [0.1945],\n",
            "        [0.1948],\n",
            "        [0.2479],\n",
            "        [0.1921],\n",
            "        [0.2412],\n",
            "        [0.2205],\n",
            "        [0.2274],\n",
            "        [0.2198],\n",
            "        [0.2199],\n",
            "        [0.2454],\n",
            "        [0.2442],\n",
            "        [0.2185],\n",
            "        [0.2126],\n",
            "        [0.2292],\n",
            "        [0.2002],\n",
            "        [0.2455],\n",
            "        [0.2154],\n",
            "        [0.1840],\n",
            "        [0.2275],\n",
            "        [0.1832],\n",
            "        [0.2007],\n",
            "        [0.2456],\n",
            "        [0.1918],\n",
            "        [0.2171],\n",
            "        [0.2289],\n",
            "        [0.1865],\n",
            "        [0.2421],\n",
            "        [0.2093],\n",
            "        [0.2204],\n",
            "        [0.1892],\n",
            "        [0.2035],\n",
            "        [0.1968],\n",
            "        [0.2010],\n",
            "        [0.2215],\n",
            "        [0.2204],\n",
            "        [0.2427],\n",
            "        [0.1948],\n",
            "        [0.1867],\n",
            "        [0.1902],\n",
            "        [0.2383],\n",
            "        [0.2115],\n",
            "        [0.2383],\n",
            "        [0.2327],\n",
            "        [0.2338],\n",
            "        [0.2014],\n",
            "        [0.2343],\n",
            "        [0.2138],\n",
            "        [0.2116],\n",
            "        [0.1914],\n",
            "        [0.2402],\n",
            "        [0.2376],\n",
            "        [0.2338],\n",
            "        [0.1896],\n",
            "        [0.2258],\n",
            "        [0.1851],\n",
            "        [0.2007],\n",
            "        [0.2087],\n",
            "        [0.2133],\n",
            "        [0.2200],\n",
            "        [0.2087],\n",
            "        [0.2211],\n",
            "        [0.2133],\n",
            "        [0.2086],\n",
            "        [0.2412],\n",
            "        [0.2317],\n",
            "        [0.1862],\n",
            "        [0.2422],\n",
            "        [0.2156],\n",
            "        [0.1806],\n",
            "        [0.2007],\n",
            "        [0.2121],\n",
            "        [0.2443]], grad_fn=<AddmmBackward>)\n",
            "OUTPUT SHAPE: torch.Size([128, 1])\n"
          ],
          "name": "stdout"
        }
      ]
    },
    {
      "cell_type": "markdown",
      "metadata": {
        "id": "4gJJEo-oEFFN"
      },
      "source": [
        "### Disabling gradient tracking"
      ]
    },
    {
      "cell_type": "markdown",
      "metadata": {
        "id": "I7aeQ_DFERWQ"
      },
      "source": [
        "PyTorch tracks gradients by default (it does not know if you are training or testing). During testing, it is always recommended to disable the backpropagation to speed-up the computation. This can be easily achieved with this command:"
      ]
    },
    {
      "cell_type": "code",
      "metadata": {
        "id": "nt5Tjg5REtKu",
        "colab": {
          "base_uri": "https://localhost:8080/"
        },
        "outputId": "9d9c039f-9b10-4730-9e27-b76f7135c360"
      },
      "source": [
        "with torch.no_grad():\n",
        "  out = net(x)\n",
        "  \n",
        "print(f\"OUTPUT SHAPE: {out.shape}\")"
      ],
      "execution_count": 21,
      "outputs": [
        {
          "output_type": "stream",
          "text": [
            "OUTPUT SHAPE: torch.Size([128, 1])\n"
          ],
          "name": "stdout"
        }
      ]
    },
    {
      "cell_type": "markdown",
      "metadata": {
        "id": "ZuiM_3NPENM6"
      },
      "source": [
        "### Run on GPU"
      ]
    },
    {
      "cell_type": "markdown",
      "metadata": {
        "id": "8dKfluI5E3-f"
      },
      "source": [
        "To run the computation on GPU you need to:\n",
        "\n",
        "*   Transfer the network parameters to the GPU memory\n",
        "*   Transfer the input data to the GPU memory\n",
        "*   If needed, transfer back the output to the CPU memory\n"
      ]
    },
    {
      "cell_type": "code",
      "metadata": {
        "id": "xe31iR4qFI9y",
        "colab": {
          "base_uri": "https://localhost:8080/"
        },
        "outputId": "72756997-0eea-4352-b8cf-3468e1c59285"
      },
      "source": [
        "### Check if a cuda GPU is available\n",
        "if torch.cuda.is_available():\n",
        "    print('GPU availble')\n",
        "    # Define the device (here you can select which GPU to use if more than 1)\n",
        "    device = torch.device(\"cuda\")\n",
        "else:\n",
        "    print('GPU not availble')\n",
        "    device = torch.device(\"cpu\")\n",
        "\n",
        "print(f\"SELECTED DEVICE: {device}\")\n",
        "\n",
        "### Transfer the network parameters to the GPU memory (if available)\n",
        "net.to(device)\n",
        "\n",
        "### Transfer the input data to the GPU memory (if available) and compute output\n",
        "out = net(x.to(device))\n",
        "\n",
        "print(f\"OUTPUT SHAPE: {out.shape}\")"
      ],
      "execution_count": 22,
      "outputs": [
        {
          "output_type": "stream",
          "text": [
            "GPU availble\n",
            "SELECTED DEVICE: cuda\n",
            "OUTPUT SHAPE: torch.Size([128, 1])\n"
          ],
          "name": "stdout"
        }
      ]
    },
    {
      "cell_type": "markdown",
      "metadata": {
        "id": "ffHlNvBYHLvS"
      },
      "source": [
        "## Compute the loss"
      ]
    },
    {
      "cell_type": "markdown",
      "metadata": {
        "id": "k3T0kYcqKZ6V"
      },
      "source": [
        "PyTorch already implements all the loss functions commonly used in any machine learning and deep learning problems, both for regression and classification.\n",
        "\n",
        "Here the complete list of the available loss functions: [loss-functions](https://pytorch.org/docs/stable/nn.html#loss-functions)\n",
        "\n",
        "Check the documentation for all the available parameters, which clearly depend on the specific loss.\n",
        "\n",
        "Let's define an MSELoss (with default parameters) as example:\n"
      ]
    },
    {
      "cell_type": "code",
      "metadata": {
        "id": "yFYj-rQ5LEqF",
        "colab": {
          "base_uri": "https://localhost:8080/"
        },
        "outputId": "f754a2b0-c806-401c-a49c-f64620c5ea59"
      },
      "source": [
        "# Define the loss function\n",
        "loss_function = nn.MSELoss()\n",
        "\n",
        "# Evaluate the loss function\n",
        "a = torch.zeros(100)\n",
        "b = torch.rand(100)\n",
        "loss_value = loss_function(a, b)\n",
        "print(f\"Computed loss: {loss_value}\")\n",
        "\n",
        "expected_mse = np.mean(a.numpy()**2 + b.numpy()**2)\n",
        "print(f\"Expected MSE: {expected_mse}\")"
      ],
      "execution_count": 23,
      "outputs": [
        {
          "output_type": "stream",
          "text": [
            "Computed loss: 0.3020009398460388\n",
            "Expected MSE: 0.3020009696483612\n"
          ],
          "name": "stdout"
        }
      ]
    },
    {
      "cell_type": "markdown",
      "metadata": {
        "id": "7oeo4IthL6_y"
      },
      "source": [
        "## Backpropagation"
      ]
    },
    {
      "cell_type": "markdown",
      "metadata": {
        "id": "b-V0bRU9S0_r"
      },
      "source": [
        "Since PyTorch automatically tracks the gradients, the backpropagation step can be done is a single line of code by calling the *.backward()* method of the loss tensor.\n",
        "\n",
        "Before that, you need to be sure that there are no gradients accumulated by previous operations by calling the method *.zero_grad()* of the network object.\n",
        "\n",
        "Let's try with some random input and labels."
      ]
    },
    {
      "cell_type": "code",
      "metadata": {
        "id": "3qsuPQTgTgKT"
      },
      "source": [
        "x = torch.rand(128, 1).to(device)\n",
        "label = torch.rand(128, 1).to(device)\n",
        "\n",
        "# Forward pass\n",
        "out = net(x)\n",
        "\n",
        "# Compute loss\n",
        "loss = loss_function(out, label)\n",
        "\n",
        "# Backpropagation\n",
        "net.zero_grad()\n",
        "loss.backward()"
      ],
      "execution_count": 24,
      "outputs": []
    },
    {
      "cell_type": "markdown",
      "metadata": {
        "id": "-WJuFwa2Ua9E"
      },
      "source": [
        "Let's check the just evaluated gradients, for example on the parameters of the first layer."
      ]
    },
    {
      "cell_type": "code",
      "metadata": {
        "id": "0TLjdbxJUnzT",
        "colab": {
          "base_uri": "https://localhost:8080/"
        },
        "outputId": "99a2bf46-2767-4f06-e706-b816590e24be"
      },
      "source": [
        "params = next(net.fc1.parameters())\n",
        "print(\"#########################\")\n",
        "print(\"#########################\")\n",
        "print(f\"VALUES\")\n",
        "print(\"#########################\")\n",
        "print(params)\n",
        "\n",
        "print(\"\\n#########################\")\n",
        "print(\"#########################\")\n",
        "print(f\"GRADIENTS\")\n",
        "print(\"#########################\")\n",
        "print(params.grad)"
      ],
      "execution_count": 25,
      "outputs": [
        {
          "output_type": "stream",
          "text": [
            "#########################\n",
            "#########################\n",
            "VALUES\n",
            "#########################\n",
            "Parameter containing:\n",
            "tensor([[-0.0075],\n",
            "        [ 0.5364],\n",
            "        [-0.8230],\n",
            "        [-0.7359],\n",
            "        [-0.3852],\n",
            "        [ 0.2682],\n",
            "        [-0.0198],\n",
            "        [ 0.7929],\n",
            "        [-0.0887],\n",
            "        [ 0.2646],\n",
            "        [-0.3022],\n",
            "        [-0.1966],\n",
            "        [-0.9553],\n",
            "        [-0.6623],\n",
            "        [-0.4122],\n",
            "        [ 0.0370],\n",
            "        [ 0.3953],\n",
            "        [ 0.6000],\n",
            "        [-0.6779],\n",
            "        [-0.4355],\n",
            "        [ 0.3632],\n",
            "        [ 0.8304],\n",
            "        [-0.2058],\n",
            "        [ 0.7483],\n",
            "        [-0.1612],\n",
            "        [ 0.1058],\n",
            "        [ 0.9055],\n",
            "        [-0.9277],\n",
            "        [-0.6295],\n",
            "        [-0.2532],\n",
            "        [-0.3898],\n",
            "        [ 0.8640]], device='cuda:0', requires_grad=True)\n",
            "\n",
            "#########################\n",
            "#########################\n",
            "GRADIENTS\n",
            "#########################\n",
            "tensor([[-0.0069],\n",
            "        [ 0.0018],\n",
            "        [-0.0004],\n",
            "        [-0.0020],\n",
            "        [-0.0072],\n",
            "        [-0.0103],\n",
            "        [ 0.0103],\n",
            "        [ 0.0039],\n",
            "        [-0.0055],\n",
            "        [-0.0113],\n",
            "        [-0.0122],\n",
            "        [-0.0094],\n",
            "        [-0.0017],\n",
            "        [ 0.0095],\n",
            "        [-0.0013],\n",
            "        [ 0.0080],\n",
            "        [ 0.0129],\n",
            "        [-0.0119],\n",
            "        [-0.0105],\n",
            "        [ 0.0125],\n",
            "        [-0.0023],\n",
            "        [ 0.0020],\n",
            "        [ 0.0022],\n",
            "        [ 0.0064],\n",
            "        [-0.0054],\n",
            "        [ 0.0074],\n",
            "        [-0.0051],\n",
            "        [-0.0050],\n",
            "        [-0.0100],\n",
            "        [-0.0052],\n",
            "        [ 0.0115],\n",
            "        [ 0.0073]], device='cuda:0')\n"
          ],
          "name": "stdout"
        }
      ]
    },
    {
      "cell_type": "markdown",
      "metadata": {
        "id": "Z2aT9hD6VydG"
      },
      "source": [
        "## Update the weights (Optimizer)"
      ]
    },
    {
      "cell_type": "markdown",
      "metadata": {
        "id": "E8Ha4afUX91C"
      },
      "source": [
        "Now that we have the gradients, we can also manually implement the simplest gradient descent just by multiplying the gradients by a learning rate, and then add this contribution to the original weights.\n",
        "\n",
        "However, PyTorch already implements much more complex approaches which also consider higher order momentum and other improvments for a better optimization.\n",
        "\n",
        "You can find all the available optimizers in the *torch.nn.optim module*. Check the documentation here: [optim](https://pytorch.org/docs/stable/optim.html)\n",
        "\n",
        "\n",
        "For example, let's use the Adaptive Moment (Adam) algorithm.\n",
        "\n",
        "[Adam paper](https://arxiv.org/abs/1412.6980)"
      ]
    },
    {
      "cell_type": "code",
      "metadata": {
        "id": "SSGDFPgNZFsi",
        "colab": {
          "base_uri": "https://localhost:8080/"
        },
        "outputId": "4207c069-7e40-4861-8984-7e0b7611ec9b"
      },
      "source": [
        "# Random training data\n",
        "x = torch.rand(128, 1).to(device)\n",
        "label = torch.rand(128, 1).to(device)\n",
        "\n",
        "# Define the loss function\n",
        "loss_function = nn.MSELoss()\n",
        "\n",
        "# Define the optimizer\n",
        "optimizer = optim.Adam(net.parameters(), lr=0.001)\n",
        "\n",
        "# Forward pass\n",
        "out = net(x)\n",
        "\n",
        "# Compute loss\n",
        "loss = loss_function(out, label)\n",
        "\n",
        "# Backpropagation\n",
        "net.zero_grad()\n",
        "loss.backward()\n",
        "\n",
        "# Update the weights\n",
        "print(f\"A specific weight before update: {next(net.fc1.parameters())[0]}\")\n",
        "optimizer.step()\n",
        "print(f\"A specific weight after update: {next(net.fc1.parameters())[0]}\")"
      ],
      "execution_count": 26,
      "outputs": [
        {
          "output_type": "stream",
          "text": [
            "A specific weight before update: tensor([-0.0075], device='cuda:0', grad_fn=<SelectBackward>)\n",
            "A specific weight after update: tensor([-0.0065], device='cuda:0', grad_fn=<SelectBackward>)\n"
          ],
          "name": "stdout"
        }
      ]
    },
    {
      "cell_type": "markdown",
      "metadata": {
        "id": "PM_pV-lxaDIz"
      },
      "source": [
        "As you can see from the print outputs, the optimizer successfully updated the weight.\n",
        "\n",
        "The *.step()* method of the optimizer is where the optimizer actually update the weights.\n",
        "\n",
        "When you define the optimizer, you have to provide:\n",
        "\n",
        "* The parameters that the optimizer should update during the update step (in this case all the network parameters, but it can also be a subset for more complex network implementations).\n",
        "* Additional parameters that depend on the specific optimizier. In this case we are just providing a learning rate."
      ]
    },
    {
      "cell_type": "markdown",
      "metadata": {
        "id": "xTdKUJV_jZ3M"
      },
      "source": [
        "# Dataset and Dataloader"
      ]
    },
    {
      "cell_type": "markdown",
      "metadata": {
        "id": "b7-EPDN2q_6G"
      },
      "source": [
        "## The Dataset class"
      ]
    },
    {
      "cell_type": "markdown",
      "metadata": {
        "id": "Nb-uAPGarKAM"
      },
      "source": [
        "`torch.utils.data.Dataset` is an abstract class representing a dataset. Your custom dataset should inherit `Dataset` and override the following methods:\n",
        "\n",
        "* `__init__` to initialize your dataset. For example, if your dataset fits in memory, you can load the entire dataset in a list, or you can just store the list of dataset files.\n",
        "* `__len__` so that len(dataset) returns the size of the dataset.\n",
        "* `__getitem__` to support indexing such that `dataset[i]` can be used to get  the i-th sample\n",
        "\n",
        "Therefore, the structure of the class is:\n",
        "\n",
        "```\n",
        "class CustomDataset(Dataset):\n",
        "\n",
        "    def __init__(self, init_parameters, transform=None):\n",
        "        self.transform = transform\n",
        "        [...]\n",
        "\n",
        "    def __len__(self):\n",
        "        [...]\n",
        "\n",
        "    def __getitem__(self, idx):\n",
        "        [...]\n",
        "        if self.transform:\n",
        "            sample = self.transform(sample)\n",
        "\n",
        "        return sample\n",
        "```\n",
        "\n",
        "Typically, a `transform` function is provided during initialization. This function is applied to each sample at runtime, so it is executed every time you load a sample from the dataset. This is really helpful, for example, to add random data transformation during training, such as random image rotation, random noise..."
      ]
    },
    {
      "cell_type": "markdown",
      "metadata": {
        "id": "WCK9Ga7cxJcL"
      },
      "source": [
        "Let's create a `Dataset` class that loads data from a csv file with two columns, the first is the input (single value), and the second is the output (label)."
      ]
    },
    {
      "cell_type": "markdown",
      "metadata": {
        "id": "UsZJ1ytMxrn9"
      },
      "source": [
        "First, we create some example files. We generate data using the same quadratic function used in the previous lab.\n",
        "\n",
        "\n",
        "---\n",
        "\n",
        "*HINT*\n",
        "\n",
        "You can use the `pandas` package to deal with csv files and easily map them into pandas `DataFrame` objects.\n",
        "\n",
        "* [pandas.read_csv](https://pandas.pydata.org/pandas-docs/stable/reference/api/pandas.read_csv.html)\n",
        "* [pandas.DataFrame.to_csv](https://pandas.pydata.org/pandas-docs/stable/reference/api/pandas.DataFrame.to_csv.html?highlight=to_csv#pandas.DataFrame.to_csv)"
      ]
    },
    {
      "cell_type": "code",
      "metadata": {
        "id": "enlqPkqrxrMZ",
        "colab": {
          "base_uri": "https://localhost:8080/",
          "height": 585
        },
        "outputId": "1d0fccfd-e3b9-495b-f649-d191aa5dcc81"
      },
      "source": [
        "def poly_model(x, beta, noise_std=0):\n",
        "    \"\"\"\n",
        "    INPUT\n",
        "        x: x vector\n",
        "        beta: polynomial parameters\n",
        "        noise_std: enable noisy sampling (gaussian noise, zero mean, noise_std std)\n",
        "    \"\"\"\n",
        "    pol_order = len(beta)\n",
        "    x_matrix = np.array([x**i for i in range(pol_order)]).transpose()\n",
        "    y = np.matmul(x_matrix, beta)\n",
        "    noise = np.random.randn(len(y)) * noise_std\n",
        "    return y + noise\n",
        "\n",
        "beta_true = [-1.45, 1.12, 2.3]\n",
        "noise_std = 0.2\n",
        "np.random.seed(4)\n",
        "\n",
        "### Train data\n",
        "num_train_points = 20\n",
        "x_train = np.random.rand(num_train_points)\n",
        "y_train = poly_model(x_train, beta_true, noise_std)\n",
        "with open('train_data.csv', 'w') as f:\n",
        "  data = [f\"{x},{y}\" for x, y in zip(x_train, y_train)]\n",
        "  f.write('\\n'.join(data))\n",
        "    \n",
        "### Test data\n",
        "num_test_points = 20\n",
        "x_test = np.random.rand(num_test_points)\n",
        "y_test = poly_model(x_test, beta_true, noise_std)\n",
        "with open('test_data.csv', 'w') as f:\n",
        "  data = [f\"{x},{y}\" for x, y in zip(x_test, y_test)]\n",
        "  f.write('\\n'.join(data))\n",
        "\n",
        "  \n",
        "### Plot\n",
        "plt.figure(figsize=(12,8))\n",
        "x_highres = np.linspace(0,1,1000)\n",
        "plt.plot(x_highres, poly_model(x_highres, beta_true), color='b', ls='--', label='True data model')\n",
        "plt.plot(x_train, y_train, color='r', ls='', marker='.', label='Train data points')\n",
        "plt.plot(x_test, y_test, color='g', ls='', marker='.', label='Test data points')\n",
        "plt.xlabel('x')\n",
        "plt.ylabel('y')\n",
        "plt.grid()\n",
        "plt.legend()\n",
        "plt.tight_layout()\n",
        "plt.show()"
      ],
      "execution_count": 27,
      "outputs": [
        {
          "output_type": "display_data",
          "data": {
            "image/png": "[encoded data removed]",
            "text/plain": [
              "<Figure size 864x576 with 1 Axes>"
            ]
          },
          "metadata": {
            "tags": [],
            "needs_background": "light"
          }
        }
      ]
    },
    {
      "cell_type": "markdown",
      "metadata": {
        "id": "uEHfHVM2zf68"
      },
      "source": [
        "Now we can define our `Dataset` class."
      ]
    },
    {
      "cell_type": "code",
      "metadata": {
        "id": "W4usa0KIrQL0"
      },
      "source": [
        "class CsvDataset(Dataset):\n",
        "\n",
        "  def __init__(self, csv_file, transform=None):\n",
        "    \"\"\"\n",
        "    Args:\n",
        "        csv_file (string): Path to the csv file.\n",
        "        transform (callable, optional): Optional transform to be applied\n",
        "            on a sample.\n",
        "    \"\"\"\n",
        "    self.transform = transform\n",
        "    # Read the file and split the lines in a list\n",
        "    with open(csv_file, 'r') as f:\n",
        "      lines = f.read().split('\\n')\n",
        "    # Get x and y values from each line and append to self.data\n",
        "    self.data = []\n",
        "    for line in lines:\n",
        "      sample = line.split(',')\n",
        "      self.data.append((float(sample[0]), float(sample[1])))\n",
        "    # Now self.data contains all our dataset.\n",
        "    # Each element of the list self.data is a tuple: (input, output)\n",
        "\n",
        "  def __len__(self):\n",
        "    # The length of the dataset is simply the length of the self.data list\n",
        "    return len(self.data)\n",
        "\n",
        "  def __getitem__(self, idx):\n",
        "    # Our sample is the element idx of the list self.data\n",
        "    sample = self.data[idx]\n",
        "    if self.transform:\n",
        "        sample = self.transform(sample)\n",
        "    return sample"
      ],
      "execution_count": 28,
      "outputs": []
    },
    {
      "cell_type": "markdown",
      "metadata": {
        "id": "77ME02ST4cYC"
      },
      "source": [
        "Now we can instantiate our training and test dataset objects."
      ]
    },
    {
      "cell_type": "code",
      "metadata": {
        "id": "Nuw86bFW4ifF"
      },
      "source": [
        "train_dataset = CsvDataset('train_data.csv')\n",
        "test_dataset = CsvDataset('test_data.csv')"
      ],
      "execution_count": 29,
      "outputs": []
    },
    {
      "cell_type": "markdown",
      "metadata": {
        "id": "TdkdKi6I4n-u"
      },
      "source": [
        "We can directly get data from the `Dataset` object in the same way we do with lists."
      ]
    },
    {
      "cell_type": "code",
      "metadata": {
        "id": "d_pr5S1I4_7O",
        "colab": {
          "base_uri": "https://localhost:8080/"
        },
        "outputId": "a1ec36c2-bd47-4018-8811-3766d2505c09"
      },
      "source": [
        "# Direct access (element at index 3, i.e. 4th element, go check the 4th line in the csv file)\n",
        "print(train_dataset[3])"
      ],
      "execution_count": 30,
      "outputs": [
        {
          "output_type": "stream",
          "text": [
            "(0.7148159936743647, 0.5922569230588951)\n"
          ],
          "name": "stdout"
        }
      ]
    },
    {
      "cell_type": "code",
      "metadata": {
        "id": "j9OC5L6b5PC7",
        "colab": {
          "base_uri": "https://localhost:8080/"
        },
        "outputId": "e08a9388-7125-45b6-cf69-8a286442bf4a"
      },
      "source": [
        "# Iterate the entire dataset\n",
        "for sample in train_dataset:\n",
        "  print(sample)"
      ],
      "execution_count": 31,
      "outputs": [
        {
          "output_type": "stream",
          "text": [
            "(0.9670298390136767, 1.9076447894491741)\n",
            "(0.5472322491757223, -0.16593205715403042)\n",
            "(0.9726843599648843, 1.9004851499347568)\n",
            "(0.7148159936743647, 0.5922569230588951)\n",
            "(0.6977288245972708, 0.21979171051505964)\n",
            "(0.21608949558037638, -1.0303825931030546)\n",
            "(0.9762744547762418, 1.714207098141801)\n",
            "(0.006230255204589863, -1.1335369713839107)\n",
            "(0.25298236238344396, -0.8747912583236223)\n",
            "(0.4347915324044458, -0.5190059139645934)\n",
            "(0.7793829217937525, 0.6234173409279593)\n",
            "(0.19768507460025309, -1.1278235746193572)\n",
            "(0.8629932355992223, 1.2614728576726884)\n",
            "(0.9834006771753128, 1.6338959779089524)\n",
            "(0.16384224140469872, -0.7600828020869177)\n",
            "(0.5973339439328592, 0.1185310934687643)\n",
            "(0.008986097667554982, -1.1012783026767388)\n",
            "(0.3865712826436294, -0.8958966741109858)\n",
            "(0.044160057931499574, -1.068905972108434)\n",
            "(0.9566529677142359, 1.4541834769364919)\n"
          ],
          "name": "stdout"
        }
      ]
    },
    {
      "cell_type": "markdown",
      "metadata": {
        "id": "eTsZT-w-6Fae"
      },
      "source": [
        "## Data transformation"
      ]
    },
    {
      "cell_type": "markdown",
      "metadata": {
        "id": "Mnc8FauD7ioK"
      },
      "source": [
        "Now that we have a dataset to work with, we can move to creating custom transformations. A suite of transformations used at training time is typically referred to as data augmentation and is a common practice for modern model development.\n",
        "\n",
        "One issue common in handling computer vision datasets, for example, is that the samples may not all be the same size. Most neural networks expect the images of a fixed size. Therefore, you will need to write some prepocessing code to rescale and/or crop the image. \n",
        "\n",
        "You can find more details here: [https://pytorch.org/tutorials/recipes/recipes/custom_dataset_transforms_loader.html](https://pytorch.org/tutorials/recipes/recipes/custom_dataset_transforms_loader.html)\n",
        "\n",
        "In this case we just need to transform our data points into PyTorch **float32** tensors.\n",
        "\n",
        "To do so we write **callable class** instead of simple functions so that parameters of the transform need not be passed everytime it’s called. \n",
        "\n",
        "For this, we just need to implement `__call__` method and if required, `__init__` method. We can then use a transform like this:\n",
        "\n",
        "```\n",
        "tsfm = Transform(params)\n",
        "transformed_sample = tsfm(sample)\n",
        "```"
      ]
    },
    {
      "cell_type": "code",
      "metadata": {
        "id": "5ViTaeAl-qh_"
      },
      "source": [
        "class ToTensor(object):\n",
        "    \"\"\"Convert sample to Tensors.\"\"\"\n",
        "\n",
        "    def __call__(self, sample):\n",
        "        x, y = sample\n",
        "        return (torch.Tensor([x]).float(),\n",
        "                torch.Tensor([y]).float())"
      ],
      "execution_count": 32,
      "outputs": []
    },
    {
      "cell_type": "markdown",
      "metadata": {
        "id": "I_oZ5DnQACe0"
      },
      "source": [
        "Let's check if it works with a custom sample."
      ]
    },
    {
      "cell_type": "code",
      "metadata": {
        "id": "Tx1dGWkm_OfV",
        "colab": {
          "base_uri": "https://localhost:8080/"
        },
        "outputId": "149b395c-4602-45b7-be8f-c9420ea1b5b2"
      },
      "source": [
        "to_tensor = ToTensor()\n",
        "sample = (2.3, 3.5)\n",
        "print(to_tensor(sample))"
      ],
      "execution_count": 33,
      "outputs": [
        {
          "output_type": "stream",
          "text": [
            "(tensor([2.3000]), tensor([3.5000]))\n"
          ],
          "name": "stdout"
        }
      ]
    },
    {
      "cell_type": "markdown",
      "metadata": {
        "id": "QzWPu20wAxYC"
      },
      "source": [
        "You can concatenate multiple transformations (e.g. rescale image -> crop image -> add random noise -> tranform to tensor), using the utility function `torchvision.transforms`. In this case we have just a single tranform, but we use it anyway."
      ]
    },
    {
      "cell_type": "code",
      "metadata": {
        "id": "XEbIOG9dBbo3"
      },
      "source": [
        "composed_transform = transforms.Compose([\n",
        "  ToTensor(),\n",
        "  # Other transformations, if required\n",
        "  ])"
      ],
      "execution_count": 34,
      "outputs": []
    },
    {
      "cell_type": "code",
      "metadata": {
        "id": "OWsb_EJsBqQh",
        "colab": {
          "base_uri": "https://localhost:8080/"
        },
        "outputId": "9853a006-9d2d-4f29-f61d-516707a198f0"
      },
      "source": [
        "# Test the composed transform\n",
        "sample = (2.3, 3.5)\n",
        "print(composed_transform(sample))"
      ],
      "execution_count": 35,
      "outputs": [
        {
          "output_type": "stream",
          "text": [
            "(tensor([2.3000]), tensor([3.5000]))\n"
          ],
          "name": "stdout"
        }
      ]
    },
    {
      "cell_type": "markdown",
      "metadata": {
        "id": "qxbIzH4NAVvK"
      },
      "source": [
        "To include the transformation in the previous defined dataset every time we get a sample, we can use the transform parameter of the dataset:"
      ]
    },
    {
      "cell_type": "code",
      "metadata": {
        "id": "bhME6qGuAmzE",
        "colab": {
          "base_uri": "https://localhost:8080/"
        },
        "outputId": "0d1be913-67f1-41be-8756-76aea84bea2c"
      },
      "source": [
        "train_dataset = CsvDataset('train_data.csv', transform=composed_transform)\n",
        "print(train_dataset[0])"
      ],
      "execution_count": 36,
      "outputs": [
        {
          "output_type": "stream",
          "text": [
            "(tensor([0.9670]), tensor([1.9076]))\n"
          ],
          "name": "stdout"
        }
      ]
    },
    {
      "cell_type": "markdown",
      "metadata": {
        "id": "AnKEarqZB133"
      },
      "source": [
        "As you can see, now the dataset returns tensor data."
      ]
    },
    {
      "cell_type": "markdown",
      "metadata": {
        "id": "OhnQhtz-SGCq"
      },
      "source": [
        "### Exercise"
      ]
    },
    {
      "cell_type": "markdown",
      "metadata": {
        "id": "wkirKQlASVJJ"
      },
      "source": [
        "Create a composed transform that:\n",
        "\n",
        "1.   Convert sample to tensors\n",
        "2.   Add a random noise (zero mean and configurable std) to the x value of the sample"
      ]
    },
    {
      "cell_type": "code",
      "metadata": {
        "id": "kgP_7JRoQ7Xr"
      },
      "source": [
        "class AddNoise(object):\n",
        "    \"\"\"Add random noise to sample.\"\"\"\n",
        "\n",
        "    def __init__(self, noise_std):\n",
        "        self.noise_std = noise_std\n",
        "\n",
        "    def __call__(self, sample):\n",
        "        x, y = sample\n",
        "        noise = torch.randn(x.shape) * self.noise_std\n",
        "        return (x + noise, y)"
      ],
      "execution_count": 37,
      "outputs": []
    },
    {
      "cell_type": "code",
      "metadata": {
        "id": "FyMfkuwxR0Yf"
      },
      "source": [
        "# Create the composed transform\n",
        "composed_transform = transforms.Compose([\n",
        "  ToTensor(),\n",
        "  AddNoise(noise_std=1.0)\n",
        "  ])"
      ],
      "execution_count": 38,
      "outputs": []
    },
    {
      "cell_type": "code",
      "metadata": {
        "id": "_0iv9WNkS_aB",
        "colab": {
          "base_uri": "https://localhost:8080/"
        },
        "outputId": "388def89-e6fc-4edc-94c4-f1f4bed02ff3"
      },
      "source": [
        "# Test the composed transform\n",
        "sample = (2.3, 3.5)\n",
        "print(composed_transform(sample))"
      ],
      "execution_count": 39,
      "outputs": [
        {
          "output_type": "stream",
          "text": [
            "(tensor([2.0537]), tensor([3.5000]))\n"
          ],
          "name": "stdout"
        }
      ]
    },
    {
      "cell_type": "markdown",
      "metadata": {
        "id": "9wIod3nF5XwW"
      },
      "source": [
        "## Dataloader"
      ]
    },
    {
      "cell_type": "markdown",
      "metadata": {
        "id": "lUkV8Lfk5bl2"
      },
      "source": [
        "Creating a `Dataset` class may seem unnecessary for the most basic problems. But it really helps when the dataset and the training procedure start to get more complex.\n",
        "\n",
        "One of the most useful benefit of defining a `Dataset` class is the possiblity to use the PyTorch `Dataloader` module.\n",
        "\n",
        "By operating on the dataset directly, we are losing out on a lot of features by using a simple for loop to iterate over the data. In particular, we are missing out on:\n",
        "\n",
        "* Batching the data\n",
        "* Shuffling the data\n",
        "* Load the data in parallel using multiprocessing workers.\n",
        "\n",
        "`torch.utils.data.DataLoader` is an iterator which provides all these features. Parameters used below should be clear."
      ]
    },
    {
      "cell_type": "code",
      "metadata": {
        "id": "67Xta9_G6pe1",
        "colab": {
          "base_uri": "https://localhost:8080/"
        },
        "outputId": "5f4cdbab-5b13-43b5-8195-8d0090057be4"
      },
      "source": [
        "train_dataloader = DataLoader(train_dataset, batch_size=4, shuffle=True, num_workers=4)\n",
        "\n",
        "for i_batch, sample_batched in enumerate(train_dataloader):\n",
        "  print('#################')\n",
        "  print(f'# BATCH {i_batch}')\n",
        "  print('#################')\n",
        "  x_batch = sample_batched[0]\n",
        "  label_batch = sample_batched[1]\n",
        "  print(f\"INPUT DATA (shape: {x_batch.shape})\")\n",
        "  print(x_batch)\n",
        "  print(f\"LABELS (shape: {label_batch.shape})\")\n",
        "  print(label_batch)"
      ],
      "execution_count": 40,
      "outputs": [
        {
          "output_type": "stream",
          "text": [
            "#################\n",
            "# BATCH 0\n",
            "#################\n",
            "INPUT DATA (shape: torch.Size([4, 1]))\n",
            "tensor([[0.7794],\n",
            "        [0.0090],\n",
            "        [0.4348],\n",
            "        [0.5472]])\n",
            "LABELS (shape: torch.Size([4, 1]))\n",
            "tensor([[ 0.6234],\n",
            "        [-1.1013],\n",
            "        [-0.5190],\n",
            "        [-0.1659]])\n",
            "#################\n",
            "# BATCH 1\n",
            "#################\n",
            "INPUT DATA (shape: torch.Size([4, 1]))\n",
            "tensor([[0.1977],\n",
            "        [0.2530],\n",
            "        [0.9834],\n",
            "        [0.0442]])\n",
            "LABELS (shape: torch.Size([4, 1]))\n",
            "tensor([[-1.1278],\n",
            "        [-0.8748],\n",
            "        [ 1.6339],\n",
            "        [-1.0689]])\n",
            "#################\n",
            "# BATCH 2\n",
            "#################\n",
            "INPUT DATA (shape: torch.Size([4, 1]))\n",
            "tensor([[0.3866],\n",
            "        [0.9727],\n",
            "        [0.1638],\n",
            "        [0.8630]])\n",
            "LABELS (shape: torch.Size([4, 1]))\n",
            "tensor([[-0.8959],\n",
            "        [ 1.9005],\n",
            "        [-0.7601],\n",
            "        [ 1.2615]])\n",
            "#################\n",
            "# BATCH 3\n",
            "#################\n",
            "INPUT DATA (shape: torch.Size([4, 1]))\n",
            "tensor([[0.9670],\n",
            "        [0.6977],\n",
            "        [0.7148],\n",
            "        [0.5973]])\n",
            "LABELS (shape: torch.Size([4, 1]))\n",
            "tensor([[1.9076],\n",
            "        [0.2198],\n",
            "        [0.5923],\n",
            "        [0.1185]])\n",
            "#################\n",
            "# BATCH 4\n",
            "#################\n",
            "INPUT DATA (shape: torch.Size([4, 1]))\n",
            "tensor([[0.0062],\n",
            "        [0.2161],\n",
            "        [0.9567],\n",
            "        [0.9763]])\n",
            "LABELS (shape: torch.Size([4, 1]))\n",
            "tensor([[-1.1335],\n",
            "        [-1.0304],\n",
            "        [ 1.4542],\n",
            "        [ 1.7142]])\n"
          ],
          "name": "stdout"
        }
      ]
    },
    {
      "cell_type": "markdown",
      "metadata": {
        "id": "Pp12qAVgCYOh"
      },
      "source": [
        "It automatically created batches, shuffled the data and loaded the samples simultaneously from 4 parallel processes!"
      ]
    }
  ]
}